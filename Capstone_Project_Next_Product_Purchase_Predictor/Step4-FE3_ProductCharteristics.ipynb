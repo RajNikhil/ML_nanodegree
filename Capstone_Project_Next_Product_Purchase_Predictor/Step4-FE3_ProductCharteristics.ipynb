{
 "cells": [
  {
   "cell_type": "markdown",
   "metadata": {},
   "source": [
    "## Engineered Features Based on Characteristics of Products"
   ]
  },
  {
   "cell_type": "code",
   "execution_count": 1,
   "metadata": {},
   "outputs": [],
   "source": [
    "import pandas as pd\n",
    "import numpy as np\n",
    "import scipy as sp"
   ]
  },
  {
   "cell_type": "code",
   "execution_count": 2,
   "metadata": {},
   "outputs": [],
   "source": [
    "df_allData = pd.read_pickle('input/all_data.p')"
   ]
  },
  {
   "cell_type": "code",
   "execution_count": 3,
   "metadata": {},
   "outputs": [
    {
     "data": {
      "text/html": [
       "<div>\n",
       "<style scoped>\n",
       "    .dataframe tbody tr th:only-of-type {\n",
       "        vertical-align: middle;\n",
       "    }\n",
       "\n",
       "    .dataframe tbody tr th {\n",
       "        vertical-align: top;\n",
       "    }\n",
       "\n",
       "    .dataframe thead th {\n",
       "        text-align: right;\n",
       "    }\n",
       "</style>\n",
       "<table border=\"1\" class=\"dataframe\">\n",
       "  <thead>\n",
       "    <tr style=\"text-align: right;\">\n",
       "      <th></th>\n",
       "      <th>order_id</th>\n",
       "      <th>product_id</th>\n",
       "      <th>add_to_cart_order</th>\n",
       "      <th>reordered</th>\n",
       "      <th>product_name</th>\n",
       "      <th>aisle_id</th>\n",
       "      <th>department_id</th>\n",
       "      <th>aisle</th>\n",
       "      <th>department</th>\n",
       "      <th>user_id</th>\n",
       "      <th>eval_set</th>\n",
       "      <th>order_number</th>\n",
       "      <th>order_dow</th>\n",
       "      <th>order_hour_of_day</th>\n",
       "      <th>days_since_prior_order</th>\n",
       "      <th>SucceedingOrdCnt</th>\n",
       "    </tr>\n",
       "  </thead>\n",
       "  <tbody>\n",
       "    <tr>\n",
       "      <th>0</th>\n",
       "      <td>2</td>\n",
       "      <td>33120</td>\n",
       "      <td>1</td>\n",
       "      <td>1</td>\n",
       "      <td>Organic-Egg-Whites</td>\n",
       "      <td>86</td>\n",
       "      <td>16</td>\n",
       "      <td>eggs</td>\n",
       "      <td>dairy eggs</td>\n",
       "      <td>202279</td>\n",
       "      <td>prior</td>\n",
       "      <td>3</td>\n",
       "      <td>5</td>\n",
       "      <td>9</td>\n",
       "      <td>8.0</td>\n",
       "      <td>6</td>\n",
       "    </tr>\n",
       "    <tr>\n",
       "      <th>1</th>\n",
       "      <td>2</td>\n",
       "      <td>28985</td>\n",
       "      <td>2</td>\n",
       "      <td>1</td>\n",
       "      <td>Michigan-Organic-Kale</td>\n",
       "      <td>83</td>\n",
       "      <td>4</td>\n",
       "      <td>fresh vegetables</td>\n",
       "      <td>produce</td>\n",
       "      <td>202279</td>\n",
       "      <td>prior</td>\n",
       "      <td>3</td>\n",
       "      <td>5</td>\n",
       "      <td>9</td>\n",
       "      <td>8.0</td>\n",
       "      <td>6</td>\n",
       "    </tr>\n",
       "    <tr>\n",
       "      <th>2</th>\n",
       "      <td>2</td>\n",
       "      <td>9327</td>\n",
       "      <td>3</td>\n",
       "      <td>0</td>\n",
       "      <td>Garlic-Powder</td>\n",
       "      <td>104</td>\n",
       "      <td>13</td>\n",
       "      <td>spices seasonings</td>\n",
       "      <td>pantry</td>\n",
       "      <td>202279</td>\n",
       "      <td>prior</td>\n",
       "      <td>3</td>\n",
       "      <td>5</td>\n",
       "      <td>9</td>\n",
       "      <td>8.0</td>\n",
       "      <td>6</td>\n",
       "    </tr>\n",
       "    <tr>\n",
       "      <th>3</th>\n",
       "      <td>2</td>\n",
       "      <td>45918</td>\n",
       "      <td>4</td>\n",
       "      <td>1</td>\n",
       "      <td>Coconut-Butter</td>\n",
       "      <td>19</td>\n",
       "      <td>13</td>\n",
       "      <td>oils vinegars</td>\n",
       "      <td>pantry</td>\n",
       "      <td>202279</td>\n",
       "      <td>prior</td>\n",
       "      <td>3</td>\n",
       "      <td>5</td>\n",
       "      <td>9</td>\n",
       "      <td>8.0</td>\n",
       "      <td>6</td>\n",
       "    </tr>\n",
       "    <tr>\n",
       "      <th>4</th>\n",
       "      <td>2</td>\n",
       "      <td>30035</td>\n",
       "      <td>5</td>\n",
       "      <td>0</td>\n",
       "      <td>Natural-Sweetener</td>\n",
       "      <td>17</td>\n",
       "      <td>13</td>\n",
       "      <td>baking ingredients</td>\n",
       "      <td>pantry</td>\n",
       "      <td>202279</td>\n",
       "      <td>prior</td>\n",
       "      <td>3</td>\n",
       "      <td>5</td>\n",
       "      <td>9</td>\n",
       "      <td>8.0</td>\n",
       "      <td>6</td>\n",
       "    </tr>\n",
       "  </tbody>\n",
       "</table>\n",
       "</div>"
      ],
      "text/plain": [
       "   order_id  product_id  add_to_cart_order  reordered           product_name  \\\n",
       "0         2       33120                  1          1     Organic-Egg-Whites   \n",
       "1         2       28985                  2          1  Michigan-Organic-Kale   \n",
       "2         2        9327                  3          0          Garlic-Powder   \n",
       "3         2       45918                  4          1         Coconut-Butter   \n",
       "4         2       30035                  5          0      Natural-Sweetener   \n",
       "\n",
       "   aisle_id  department_id               aisle  department  user_id eval_set  \\\n",
       "0        86             16                eggs  dairy eggs   202279    prior   \n",
       "1        83              4    fresh vegetables     produce   202279    prior   \n",
       "2       104             13   spices seasonings      pantry   202279    prior   \n",
       "3        19             13       oils vinegars      pantry   202279    prior   \n",
       "4        17             13  baking ingredients      pantry   202279    prior   \n",
       "\n",
       "   order_number  order_dow  order_hour_of_day  days_since_prior_order  \\\n",
       "0             3          5                  9                     8.0   \n",
       "1             3          5                  9                     8.0   \n",
       "2             3          5                  9                     8.0   \n",
       "3             3          5                  9                     8.0   \n",
       "4             3          5                  9                     8.0   \n",
       "\n",
       "   SucceedingOrdCnt  \n",
       "0                 6  \n",
       "1                 6  \n",
       "2                 6  \n",
       "3                 6  \n",
       "4                 6  "
      ]
     },
     "execution_count": 3,
     "metadata": {},
     "output_type": "execute_result"
    }
   ],
   "source": [
    "df_allData.head()"
   ]
  },
  {
   "cell_type": "markdown",
   "metadata": {},
   "source": [
    "#### Product Purchase Hour and Day of Week (DOW)"
   ]
  },
  {
   "cell_type": "code",
   "execution_count": 4,
   "metadata": {},
   "outputs": [
    {
     "data": {
      "text/html": [
       "<div>\n",
       "<style scoped>\n",
       "    .dataframe tbody tr th:only-of-type {\n",
       "        vertical-align: middle;\n",
       "    }\n",
       "\n",
       "    .dataframe tbody tr th {\n",
       "        vertical-align: top;\n",
       "    }\n",
       "\n",
       "    .dataframe thead th {\n",
       "        text-align: right;\n",
       "    }\n",
       "</style>\n",
       "<table border=\"1\" class=\"dataframe\">\n",
       "  <thead>\n",
       "    <tr style=\"text-align: right;\">\n",
       "      <th></th>\n",
       "      <th>product_id</th>\n",
       "      <th>order_hour_of_day</th>\n",
       "      <th>item_hour_cnt</th>\n",
       "      <th>itemHrDist</th>\n",
       "    </tr>\n",
       "  </thead>\n",
       "  <tbody>\n",
       "    <tr>\n",
       "      <th>0</th>\n",
       "      <td>1</td>\n",
       "      <td>0</td>\n",
       "      <td>12</td>\n",
       "      <td>0.006224</td>\n",
       "    </tr>\n",
       "    <tr>\n",
       "      <th>1</th>\n",
       "      <td>1</td>\n",
       "      <td>1</td>\n",
       "      <td>12</td>\n",
       "      <td>0.006224</td>\n",
       "    </tr>\n",
       "    <tr>\n",
       "      <th>2</th>\n",
       "      <td>1</td>\n",
       "      <td>2</td>\n",
       "      <td>9</td>\n",
       "      <td>0.004668</td>\n",
       "    </tr>\n",
       "    <tr>\n",
       "      <th>3</th>\n",
       "      <td>1</td>\n",
       "      <td>3</td>\n",
       "      <td>5</td>\n",
       "      <td>0.002593</td>\n",
       "    </tr>\n",
       "    <tr>\n",
       "      <th>4</th>\n",
       "      <td>1</td>\n",
       "      <td>4</td>\n",
       "      <td>4</td>\n",
       "      <td>0.002075</td>\n",
       "    </tr>\n",
       "  </tbody>\n",
       "</table>\n",
       "</div>"
      ],
      "text/plain": [
       "   product_id  order_hour_of_day  item_hour_cnt  itemHrDist\n",
       "0           1                  0             12    0.006224\n",
       "1           1                  1             12    0.006224\n",
       "2           1                  2              9    0.004668\n",
       "3           1                  3              5    0.002593\n",
       "4           1                  4              4    0.002075"
      ]
     },
     "execution_count": 4,
     "metadata": {},
     "output_type": "execute_result"
    }
   ],
   "source": [
    "# Count and distribution of products bought by hour of the day.\n",
    "hrGrp = df_allData.groupby(['product_id','order_hour_of_day']).size().reset_index()\n",
    "hrGrp.columns = ['product_id','order_hour_of_day','item_hour_cnt']\n",
    "hrGrp['itemHrDist'] = hrGrp['item_hour_cnt']/hrGrp.groupby('product_id').transform(np.sum).item_hour_cnt\n",
    "hrGrp.head()"
   ]
  },
  {
   "cell_type": "code",
   "execution_count": 5,
   "metadata": {},
   "outputs": [
    {
     "data": {
      "text/html": [
       "<div>\n",
       "<style scoped>\n",
       "    .dataframe tbody tr th:only-of-type {\n",
       "        vertical-align: middle;\n",
       "    }\n",
       "\n",
       "    .dataframe tbody tr th {\n",
       "        vertical-align: top;\n",
       "    }\n",
       "\n",
       "    .dataframe thead th {\n",
       "        text-align: right;\n",
       "    }\n",
       "</style>\n",
       "<table border=\"1\" class=\"dataframe\">\n",
       "  <thead>\n",
       "    <tr style=\"text-align: right;\">\n",
       "      <th></th>\n",
       "      <th>product_id</th>\n",
       "      <th>order_hour_of_day</th>\n",
       "      <th>unique_item_hour_cnt</th>\n",
       "      <th>unqItemHrDist</th>\n",
       "    </tr>\n",
       "  </thead>\n",
       "  <tbody>\n",
       "    <tr>\n",
       "      <th>0</th>\n",
       "      <td>1</td>\n",
       "      <td>0</td>\n",
       "      <td>11</td>\n",
       "      <td>0.007412</td>\n",
       "    </tr>\n",
       "    <tr>\n",
       "      <th>1</th>\n",
       "      <td>1</td>\n",
       "      <td>1</td>\n",
       "      <td>10</td>\n",
       "      <td>0.006739</td>\n",
       "    </tr>\n",
       "    <tr>\n",
       "      <th>2</th>\n",
       "      <td>1</td>\n",
       "      <td>2</td>\n",
       "      <td>9</td>\n",
       "      <td>0.006065</td>\n",
       "    </tr>\n",
       "    <tr>\n",
       "      <th>3</th>\n",
       "      <td>1</td>\n",
       "      <td>3</td>\n",
       "      <td>5</td>\n",
       "      <td>0.003369</td>\n",
       "    </tr>\n",
       "    <tr>\n",
       "      <th>4</th>\n",
       "      <td>1</td>\n",
       "      <td>4</td>\n",
       "      <td>3</td>\n",
       "      <td>0.002022</td>\n",
       "    </tr>\n",
       "  </tbody>\n",
       "</table>\n",
       "</div>"
      ],
      "text/plain": [
       "   product_id  order_hour_of_day  unique_item_hour_cnt  unqItemHrDist\n",
       "0           1                  0                    11       0.007412\n",
       "1           1                  1                    10       0.006739\n",
       "2           1                  2                     9       0.006065\n",
       "3           1                  3                     5       0.003369\n",
       "4           1                  4                     3       0.002022"
      ]
     },
     "execution_count": 5,
     "metadata": {},
     "output_type": "execute_result"
    }
   ],
   "source": [
    "# Count and distribution of unique products bought in any given hour of the day.\n",
    "hrGrpUnq = df_allData.drop_duplicates(['user_id','product_id','order_hour_of_day']).groupby(['product_id',\n",
    "                                                                                             'order_hour_of_day']).size().reset_index()\n",
    "hrGrpUnq.columns = ['product_id','order_hour_of_day','unique_item_hour_cnt']\n",
    "hrGrpUnq['unqItemHrDist'] = hrGrpUnq['unique_item_hour_cnt']/hrGrpUnq.groupby('product_id'\n",
    "                                                                             ).transform(np.sum).unique_item_hour_cnt\n",
    "hrGrpUnq.head()"
   ]
  },
  {
   "cell_type": "code",
   "execution_count": 6,
   "metadata": {},
   "outputs": [],
   "source": [
    "hrGrp.to_pickle('input/hrGrp.p')\n",
    "hrGrpUnq.to_pickle('input/hrGrpUnq.p')"
   ]
  },
  {
   "cell_type": "markdown",
   "metadata": {},
   "source": [
    "#### *Day of Week*"
   ]
  },
  {
   "cell_type": "code",
   "execution_count": 7,
   "metadata": {},
   "outputs": [
    {
     "data": {
      "text/html": [
       "<div>\n",
       "<style scoped>\n",
       "    .dataframe tbody tr th:only-of-type {\n",
       "        vertical-align: middle;\n",
       "    }\n",
       "\n",
       "    .dataframe tbody tr th {\n",
       "        vertical-align: top;\n",
       "    }\n",
       "\n",
       "    .dataframe thead th {\n",
       "        text-align: right;\n",
       "    }\n",
       "</style>\n",
       "<table border=\"1\" class=\"dataframe\">\n",
       "  <thead>\n",
       "    <tr style=\"text-align: right;\">\n",
       "      <th></th>\n",
       "      <th>product_id</th>\n",
       "      <th>order_dow</th>\n",
       "      <th>item_dow_cnt</th>\n",
       "      <th>itemDowDist</th>\n",
       "    </tr>\n",
       "  </thead>\n",
       "  <tbody>\n",
       "    <tr>\n",
       "      <th>0</th>\n",
       "      <td>1</td>\n",
       "      <td>0</td>\n",
       "      <td>206</td>\n",
       "      <td>0.106846</td>\n",
       "    </tr>\n",
       "    <tr>\n",
       "      <th>1</th>\n",
       "      <td>1</td>\n",
       "      <td>1</td>\n",
       "      <td>414</td>\n",
       "      <td>0.214730</td>\n",
       "    </tr>\n",
       "    <tr>\n",
       "      <th>2</th>\n",
       "      <td>1</td>\n",
       "      <td>2</td>\n",
       "      <td>285</td>\n",
       "      <td>0.147822</td>\n",
       "    </tr>\n",
       "    <tr>\n",
       "      <th>3</th>\n",
       "      <td>1</td>\n",
       "      <td>3</td>\n",
       "      <td>272</td>\n",
       "      <td>0.141079</td>\n",
       "    </tr>\n",
       "    <tr>\n",
       "      <th>4</th>\n",
       "      <td>1</td>\n",
       "      <td>4</td>\n",
       "      <td>308</td>\n",
       "      <td>0.159751</td>\n",
       "    </tr>\n",
       "  </tbody>\n",
       "</table>\n",
       "</div>"
      ],
      "text/plain": [
       "   product_id  order_dow  item_dow_cnt  itemDowDist\n",
       "0           1          0           206     0.106846\n",
       "1           1          1           414     0.214730\n",
       "2           1          2           285     0.147822\n",
       "3           1          3           272     0.141079\n",
       "4           1          4           308     0.159751"
      ]
     },
     "execution_count": 7,
     "metadata": {},
     "output_type": "execute_result"
    }
   ],
   "source": [
    "# Count and distribution of products bought by day of the week.\n",
    "dowGrp = df_allData.groupby(['product_id','order_dow']).size().reset_index()\n",
    "dowGrp.columns = ['product_id','order_dow','item_dow_cnt']\n",
    "dowGrp['itemDowDist'] = dowGrp['item_dow_cnt']/dowGrp.groupby('product_id').transform(np.sum).item_dow_cnt\n",
    "dowGrp.head()"
   ]
  },
  {
   "cell_type": "code",
   "execution_count": 8,
   "metadata": {},
   "outputs": [
    {
     "data": {
      "text/html": [
       "<div>\n",
       "<style scoped>\n",
       "    .dataframe tbody tr th:only-of-type {\n",
       "        vertical-align: middle;\n",
       "    }\n",
       "\n",
       "    .dataframe tbody tr th {\n",
       "        vertical-align: top;\n",
       "    }\n",
       "\n",
       "    .dataframe thead th {\n",
       "        text-align: right;\n",
       "    }\n",
       "</style>\n",
       "<table border=\"1\" class=\"dataframe\">\n",
       "  <thead>\n",
       "    <tr style=\"text-align: right;\">\n",
       "      <th></th>\n",
       "      <th>product_id</th>\n",
       "      <th>order_dow</th>\n",
       "      <th>unique_item_dow_cnt</th>\n",
       "      <th>unqItemDowDist</th>\n",
       "    </tr>\n",
       "  </thead>\n",
       "  <tbody>\n",
       "    <tr>\n",
       "      <th>0</th>\n",
       "      <td>1</td>\n",
       "      <td>0</td>\n",
       "      <td>115</td>\n",
       "      <td>0.094495</td>\n",
       "    </tr>\n",
       "    <tr>\n",
       "      <th>1</th>\n",
       "      <td>1</td>\n",
       "      <td>1</td>\n",
       "      <td>212</td>\n",
       "      <td>0.174199</td>\n",
       "    </tr>\n",
       "    <tr>\n",
       "      <th>2</th>\n",
       "      <td>1</td>\n",
       "      <td>2</td>\n",
       "      <td>205</td>\n",
       "      <td>0.168447</td>\n",
       "    </tr>\n",
       "    <tr>\n",
       "      <th>3</th>\n",
       "      <td>1</td>\n",
       "      <td>3</td>\n",
       "      <td>203</td>\n",
       "      <td>0.166804</td>\n",
       "    </tr>\n",
       "    <tr>\n",
       "      <th>4</th>\n",
       "      <td>1</td>\n",
       "      <td>4</td>\n",
       "      <td>203</td>\n",
       "      <td>0.166804</td>\n",
       "    </tr>\n",
       "  </tbody>\n",
       "</table>\n",
       "</div>"
      ],
      "text/plain": [
       "   product_id  order_dow  unique_item_dow_cnt  unqItemDowDist\n",
       "0           1          0                  115        0.094495\n",
       "1           1          1                  212        0.174199\n",
       "2           1          2                  205        0.168447\n",
       "3           1          3                  203        0.166804\n",
       "4           1          4                  203        0.166804"
      ]
     },
     "execution_count": 8,
     "metadata": {},
     "output_type": "execute_result"
    }
   ],
   "source": [
    "# Count and distribution of unique products bought in any given day of the week.\n",
    "unqDowGrp = df_allData.drop_duplicates(['user_id','product_id','order_dow']).groupby(['product_id',\n",
    "                                                                                     'order_dow']).size().reset_index()\n",
    "unqDowGrp.columns = ['product_id','order_dow','unique_item_dow_cnt']\n",
    "unqDowGrp['unqItemDowDist'] = unqDowGrp['unique_item_dow_cnt']/unqDowGrp.groupby('product_id'\n",
    "                                                                               ).transform(np.sum).unique_item_dow_cnt\n",
    "unqDowGrp.head()"
   ]
  },
  {
   "cell_type": "code",
   "execution_count": 9,
   "metadata": {},
   "outputs": [],
   "source": [
    "dowGrp.to_pickle('input/dowGrp.p')\n",
    "unqDowGrp.to_pickle('input/unqDowGrp.p')"
   ]
  },
  {
   "cell_type": "markdown",
   "metadata": {},
   "source": [
    "#### Product Combinations Purchased"
   ]
  },
  {
   "cell_type": "code",
   "execution_count": 10,
   "metadata": {},
   "outputs": [],
   "source": [
    "df_all_order_details = pd.read_pickle('input/all_order_details.p')"
   ]
  },
  {
   "cell_type": "code",
   "execution_count": 11,
   "metadata": {},
   "outputs": [
    {
     "data": {
      "text/html": [
       "<div>\n",
       "<style scoped>\n",
       "    .dataframe tbody tr th:only-of-type {\n",
       "        vertical-align: middle;\n",
       "    }\n",
       "\n",
       "    .dataframe tbody tr th {\n",
       "        vertical-align: top;\n",
       "    }\n",
       "\n",
       "    .dataframe thead th {\n",
       "        text-align: right;\n",
       "    }\n",
       "</style>\n",
       "<table border=\"1\" class=\"dataframe\">\n",
       "  <thead>\n",
       "    <tr style=\"text-align: right;\">\n",
       "      <th></th>\n",
       "      <th>order_id</th>\n",
       "      <th>user_id</th>\n",
       "      <th>eval_set</th>\n",
       "      <th>order_number</th>\n",
       "      <th>order_dow</th>\n",
       "      <th>order_hour_of_day</th>\n",
       "      <th>days_since_prior_order</th>\n",
       "      <th>product_name</th>\n",
       "      <th>SucceedingOrdCnt</th>\n",
       "      <th>days_since_first_order</th>\n",
       "      <th>prev_prd</th>\n",
       "      <th>diff_prd</th>\n",
       "      <th>same_prd</th>\n",
       "    </tr>\n",
       "  </thead>\n",
       "  <tbody>\n",
       "    <tr>\n",
       "      <th>0</th>\n",
       "      <td>2539329</td>\n",
       "      <td>1</td>\n",
       "      <td>prior</td>\n",
       "      <td>1</td>\n",
       "      <td>2</td>\n",
       "      <td>8</td>\n",
       "      <td>NaN</td>\n",
       "      <td>[Soda, Organic-Unsweetened-Vanilla-Almond-Milk...</td>\n",
       "      <td>10.0</td>\n",
       "      <td>NaN</td>\n",
       "      <td>NaN</td>\n",
       "      <td>[Soda, Organic-Unsweetened-Vanilla-Almond-Milk...</td>\n",
       "      <td>[]</td>\n",
       "    </tr>\n",
       "    <tr>\n",
       "      <th>1</th>\n",
       "      <td>2398795</td>\n",
       "      <td>1</td>\n",
       "      <td>prior</td>\n",
       "      <td>2</td>\n",
       "      <td>3</td>\n",
       "      <td>7</td>\n",
       "      <td>15.0</td>\n",
       "      <td>[Soda, Pistachios, Original-Beef-Jerky, Bag-of...</td>\n",
       "      <td>9.0</td>\n",
       "      <td>15.0</td>\n",
       "      <td>[Soda, Organic-Unsweetened-Vanilla-Almond-Milk...</td>\n",
       "      <td>[Pistachios, Bag-of-Organic-Bananas, Cinnamon-...</td>\n",
       "      <td>[Soda, Original-Beef-Jerky, Aged-White-Cheddar...</td>\n",
       "    </tr>\n",
       "    <tr>\n",
       "      <th>2</th>\n",
       "      <td>473747</td>\n",
       "      <td>1</td>\n",
       "      <td>prior</td>\n",
       "      <td>3</td>\n",
       "      <td>3</td>\n",
       "      <td>12</td>\n",
       "      <td>21.0</td>\n",
       "      <td>[Soda, Original-Beef-Jerky, Pistachios, Organi...</td>\n",
       "      <td>8.0</td>\n",
       "      <td>36.0</td>\n",
       "      <td>[Soda, Pistachios, Original-Beef-Jerky, Bag-of...</td>\n",
       "      <td>[Organic-String-Cheese, Creamy-Almond-Butter]</td>\n",
       "      <td>[Soda, Original-Beef-Jerky, Pistachios]</td>\n",
       "    </tr>\n",
       "    <tr>\n",
       "      <th>3</th>\n",
       "      <td>2254736</td>\n",
       "      <td>1</td>\n",
       "      <td>prior</td>\n",
       "      <td>4</td>\n",
       "      <td>4</td>\n",
       "      <td>7</td>\n",
       "      <td>29.0</td>\n",
       "      <td>[Soda, Original-Beef-Jerky, Pistachios, Organi...</td>\n",
       "      <td>7.0</td>\n",
       "      <td>65.0</td>\n",
       "      <td>[Soda, Original-Beef-Jerky, Pistachios, Organi...</td>\n",
       "      <td>[XL-Pick-A-Size-Paper-Towel-Rolls]</td>\n",
       "      <td>[Soda, Original-Beef-Jerky, Pistachios, Organi...</td>\n",
       "    </tr>\n",
       "    <tr>\n",
       "      <th>4</th>\n",
       "      <td>431534</td>\n",
       "      <td>1</td>\n",
       "      <td>prior</td>\n",
       "      <td>5</td>\n",
       "      <td>4</td>\n",
       "      <td>15</td>\n",
       "      <td>28.0</td>\n",
       "      <td>[Soda, Original-Beef-Jerky, Pistachios, Organi...</td>\n",
       "      <td>6.0</td>\n",
       "      <td>93.0</td>\n",
       "      <td>[Soda, Original-Beef-Jerky, Pistachios, Organi...</td>\n",
       "      <td>[Organic-Fuji-Apples, Honeycrisp-Apples, Bartl...</td>\n",
       "      <td>[Soda, Original-Beef-Jerky, Pistachios, Organi...</td>\n",
       "    </tr>\n",
       "  </tbody>\n",
       "</table>\n",
       "</div>"
      ],
      "text/plain": [
       "   order_id  user_id eval_set  order_number  order_dow  order_hour_of_day  \\\n",
       "0   2539329        1    prior             1          2                  8   \n",
       "1   2398795        1    prior             2          3                  7   \n",
       "2    473747        1    prior             3          3                 12   \n",
       "3   2254736        1    prior             4          4                  7   \n",
       "4    431534        1    prior             5          4                 15   \n",
       "\n",
       "   days_since_prior_order                                       product_name  \\\n",
       "0                     NaN  [Soda, Organic-Unsweetened-Vanilla-Almond-Milk...   \n",
       "1                    15.0  [Soda, Pistachios, Original-Beef-Jerky, Bag-of...   \n",
       "2                    21.0  [Soda, Original-Beef-Jerky, Pistachios, Organi...   \n",
       "3                    29.0  [Soda, Original-Beef-Jerky, Pistachios, Organi...   \n",
       "4                    28.0  [Soda, Original-Beef-Jerky, Pistachios, Organi...   \n",
       "\n",
       "   SucceedingOrdCnt  days_since_first_order  \\\n",
       "0              10.0                     NaN   \n",
       "1               9.0                    15.0   \n",
       "2               8.0                    36.0   \n",
       "3               7.0                    65.0   \n",
       "4               6.0                    93.0   \n",
       "\n",
       "                                            prev_prd  \\\n",
       "0                                                NaN   \n",
       "1  [Soda, Organic-Unsweetened-Vanilla-Almond-Milk...   \n",
       "2  [Soda, Pistachios, Original-Beef-Jerky, Bag-of...   \n",
       "3  [Soda, Original-Beef-Jerky, Pistachios, Organi...   \n",
       "4  [Soda, Original-Beef-Jerky, Pistachios, Organi...   \n",
       "\n",
       "                                            diff_prd  \\\n",
       "0  [Soda, Organic-Unsweetened-Vanilla-Almond-Milk...   \n",
       "1  [Pistachios, Bag-of-Organic-Bananas, Cinnamon-...   \n",
       "2      [Organic-String-Cheese, Creamy-Almond-Butter]   \n",
       "3                 [XL-Pick-A-Size-Paper-Towel-Rolls]   \n",
       "4  [Organic-Fuji-Apples, Honeycrisp-Apples, Bartl...   \n",
       "\n",
       "                                            same_prd  \n",
       "0                                                 []  \n",
       "1  [Soda, Original-Beef-Jerky, Aged-White-Cheddar...  \n",
       "2            [Soda, Original-Beef-Jerky, Pistachios]  \n",
       "3  [Soda, Original-Beef-Jerky, Pistachios, Organi...  \n",
       "4  [Soda, Original-Beef-Jerky, Pistachios, Organi...  "
      ]
     },
     "execution_count": 11,
     "metadata": {},
     "output_type": "execute_result"
    }
   ],
   "source": [
    "df_all_order_details.head()"
   ]
  },
  {
   "cell_type": "code",
   "execution_count": 12,
   "metadata": {},
   "outputs": [],
   "source": [
    "df_all_order_details.sort_values(['user_id','order_number'],inplace=True)"
   ]
  },
  {
   "cell_type": "code",
   "execution_count": 13,
   "metadata": {},
   "outputs": [],
   "source": [
    "#Determine order id of the previous order\n",
    "df_all_order_details['prev_order_id']=df_all_order_details.groupby('user_id')['order_id'].shift(1)\n",
    "df_all_order_details.reset_index(drop=True, inplace=True)"
   ]
  },
  {
   "cell_type": "code",
   "execution_count": 14,
   "metadata": {},
   "outputs": [],
   "source": [
    "# Read product details dataset.\n",
    "df_pd = pd.read_pickle('input/product_detail.p')"
   ]
  },
  {
   "cell_type": "code",
   "execution_count": 15,
   "metadata": {},
   "outputs": [],
   "source": [
    "# List ids of products in an order\n",
    "order_item_array = df_allData.groupby('order_id')['product_id'].apply(np.array).reset_index()"
   ]
  },
  {
   "cell_type": "code",
   "execution_count": 16,
   "metadata": {},
   "outputs": [
    {
     "data": {
      "text/html": [
       "<div>\n",
       "<style scoped>\n",
       "    .dataframe tbody tr th:only-of-type {\n",
       "        vertical-align: middle;\n",
       "    }\n",
       "\n",
       "    .dataframe tbody tr th {\n",
       "        vertical-align: top;\n",
       "    }\n",
       "\n",
       "    .dataframe thead th {\n",
       "        text-align: right;\n",
       "    }\n",
       "</style>\n",
       "<table border=\"1\" class=\"dataframe\">\n",
       "  <thead>\n",
       "    <tr style=\"text-align: right;\">\n",
       "      <th></th>\n",
       "      <th>order_id</th>\n",
       "      <th>product_id</th>\n",
       "    </tr>\n",
       "  </thead>\n",
       "  <tbody>\n",
       "    <tr>\n",
       "      <th>0</th>\n",
       "      <td>1</td>\n",
       "      <td>[49302, 11109, 10246, 49683, 43633, 13176, 472...</td>\n",
       "    </tr>\n",
       "    <tr>\n",
       "      <th>1</th>\n",
       "      <td>2</td>\n",
       "      <td>[33120, 28985, 9327, 45918, 30035, 17794, 4014...</td>\n",
       "    </tr>\n",
       "    <tr>\n",
       "      <th>2</th>\n",
       "      <td>3</td>\n",
       "      <td>[33754, 24838, 17704, 21903, 17668, 46667, 174...</td>\n",
       "    </tr>\n",
       "    <tr>\n",
       "      <th>3</th>\n",
       "      <td>4</td>\n",
       "      <td>[46842, 26434, 39758, 27761, 10054, 21351, 225...</td>\n",
       "    </tr>\n",
       "    <tr>\n",
       "      <th>4</th>\n",
       "      <td>5</td>\n",
       "      <td>[13176, 15005, 47329, 27966, 23909, 48370, 132...</td>\n",
       "    </tr>\n",
       "  </tbody>\n",
       "</table>\n",
       "</div>"
      ],
      "text/plain": [
       "   order_id                                         product_id\n",
       "0         1  [49302, 11109, 10246, 49683, 43633, 13176, 472...\n",
       "1         2  [33120, 28985, 9327, 45918, 30035, 17794, 4014...\n",
       "2         3  [33754, 24838, 17704, 21903, 17668, 46667, 174...\n",
       "3         4  [46842, 26434, 39758, 27761, 10054, 21351, 225...\n",
       "4         5  [13176, 15005, 47329, 27966, 23909, 48370, 132..."
      ]
     },
     "execution_count": 16,
     "metadata": {},
     "output_type": "execute_result"
    }
   ],
   "source": [
    "order_item_array.head()"
   ]
  },
  {
   "cell_type": "code",
   "execution_count": 17,
   "metadata": {},
   "outputs": [],
   "source": [
    "#Filter only for orders which have been ordered more than once\n",
    "df_all_order_details_ = df_all_order_details[df_all_order_details['SucceedingOrdCnt']>1].dropna()"
   ]
  },
  {
   "cell_type": "code",
   "execution_count": 18,
   "metadata": {},
   "outputs": [],
   "source": [
    "item_to_item = []"
   ]
  },
  {
   "cell_type": "markdown",
   "metadata": {},
   "source": [
    "#### *List products bought in prior and succeeding orders*"
   ]
  },
  {
   "cell_type": "code",
   "execution_count": 19,
   "metadata": {},
   "outputs": [],
   "source": [
    "from collections import Counter\n",
    "from itertools import product\n",
    "from operator import itemgetter\n",
    "iCounter = Counter()"
   ]
  },
  {
   "cell_type": "code",
   "execution_count": 20,
   "metadata": {},
   "outputs": [],
   "source": [
    "for priItem, curItem in df_all_order_details_[['prev_prd','product_name']].values:\n",
    "    item_to_item += [i1+'>'+i2 for i1, i2 in list(product(priItem, curItem))]\n",
    "    iCounter += Counter(priItem)\n",
    "item_to_item = Counter(item_to_item)"
   ]
  },
  {
   "cell_type": "code",
   "execution_count": 21,
   "metadata": {},
   "outputs": [],
   "source": [
    "df1 = pd.DataFrame.from_dict(item_to_item, orient='index').reset_index()\n",
    "df1.columns = ['item','cnt']\n",
    "df2 = pd.DataFrame.from_dict(iCounter,orient='index').reset_index()\n",
    "df2.columns = ['before','total_cnt']\n",
    "df1.sort_values('cnt',ascending=False,inplace=True)\n",
    "del item_to_item, iCounter"
   ]
  },
  {
   "cell_type": "code",
   "execution_count": 22,
   "metadata": {},
   "outputs": [],
   "source": [
    "df1['before']=df1.item.map(lambda x: x.split('>')[0])\n",
    "df1['after']=df1.item.map(lambda x: x.split('>')[1])"
   ]
  },
  {
   "cell_type": "code",
   "execution_count": 24,
   "metadata": {},
   "outputs": [],
   "source": [
    "df1 = df1[df1.before!=df1.after]"
   ]
  },
  {
   "cell_type": "code",
   "execution_count": 25,
   "metadata": {},
   "outputs": [],
   "source": [
    "df1=df1.merge(df2,on='before',how='left')"
   ]
  },
  {
   "cell_type": "code",
   "execution_count": 26,
   "metadata": {},
   "outputs": [],
   "source": [
    "df1['before2after']=df1['cnt']/df1['total_cnt']\n",
    "df1 = df1[['before','after','before2after']]"
   ]
  },
  {
   "cell_type": "code",
   "execution_count": 27,
   "metadata": {},
   "outputs": [],
   "source": [
    "df1 = df1.merge(df_pd.rename(columns={'product_name':'before','product_id':'before_id'}),on='before',how='left')\n",
    "df1 = df1.merge(df_pd.rename(columns={'product_name':'after','product_id':'after_id'}),on='after',how='left')"
   ]
  },
  {
   "cell_type": "code",
   "execution_count": 28,
   "metadata": {},
   "outputs": [],
   "source": [
    "df1 = df1[['before_id','after_id','before2after']]"
   ]
  },
  {
   "cell_type": "code",
   "execution_count": null,
   "metadata": {},
   "outputs": [],
   "source": [
    "df_all_order_details.to_pickle('input/all_order_details-FE3.p')"
   ]
  },
  {
   "cell_type": "markdown",
   "metadata": {},
   "source": [
    "#### Product Frequently Bougth Together"
   ]
  },
  {
   "cell_type": "code",
   "execution_count": 3,
   "metadata": {},
   "outputs": [],
   "source": [
    "# Determining how often multi product orders are placed and also its min, max and standard deviation.\n",
    "df_allDataT = df_allData[df_allData['SucceedingOrdCnt']>1]"
   ]
  },
  {
   "cell_type": "code",
   "execution_count": 4,
   "metadata": {},
   "outputs": [],
   "source": [
    "orderSize = df_allDataT.groupby('order_id').size().reset_index()\n",
    "orderSize.columns = ['order_id','totalSize']"
   ]
  },
  {
   "cell_type": "code",
   "execution_count": 5,
   "metadata": {},
   "outputs": [],
   "source": [
    "df_allDataT = df_allDataT.merge(orderSize,on='order_id',how='left')"
   ]
  },
  {
   "cell_type": "code",
   "execution_count": 6,
   "metadata": {},
   "outputs": [],
   "source": [
    "prod = df_allDataT.groupby('product_id')['totalSize'].mean().to_frame()\n",
    "prod.columns = ['prodComb_mean']"
   ]
  },
  {
   "cell_type": "code",
   "execution_count": 7,
   "metadata": {},
   "outputs": [],
   "source": [
    "prod['prodComb_min'] = df_allDataT.groupby('product_id')['totalSize'].min()\n",
    "prod['prodComb_max'] = df_allDataT.groupby('product_id')['totalSize'].max()\n",
    "prod['prodComb_std'] = df_allDataT.groupby('product_id')['totalSize'].std()\n",
    "    "
   ]
  },
  {
   "cell_type": "code",
   "execution_count": 8,
   "metadata": {},
   "outputs": [],
   "source": [
    "prod.reset_index().to_pickle('input/prodComb.p')"
   ]
  }
 ],
 "metadata": {
  "kernelspec": {
   "display_name": "Python 3",
   "language": "python",
   "name": "python3"
  },
  "language_info": {
   "codemirror_mode": {
    "name": "ipython",
    "version": 3
   },
   "file_extension": ".py",
   "mimetype": "text/x-python",
   "name": "python",
   "nbconvert_exporter": "python",
   "pygments_lexer": "ipython3",
   "version": "3.6.6"
  }
 },
 "nbformat": 4,
 "nbformat_minor": 2
}
