{
 "cells": [
  {
   "cell_type": "markdown",
   "metadata": {},
   "source": [
    "## Final Model Building"
   ]
  },
  {
   "cell_type": "code",
   "execution_count": 1,
   "metadata": {},
   "outputs": [],
   "source": [
    "import pandas as pd\n",
    "import numpy as np\n",
    "import gc\n",
    "from time import time\n",
    "import seaborn as sns\n",
    "import matplotlib.pyplot as plt\n",
    "%matplotlib inline"
   ]
  },
  {
   "cell_type": "code",
   "execution_count": 2,
   "metadata": {},
   "outputs": [],
   "source": [
    "df_train = pd.read_pickle('input/all_Eng_Features.p')"
   ]
  },
  {
   "cell_type": "code",
   "execution_count": 3,
   "metadata": {},
   "outputs": [],
   "source": [
    "df_test = pd.read_pickle('input/all_Eng_Features_train.p')\n",
    "df_test.dropna(inplace=True)\n",
    "df_test.rename(columns={'order_id_x':'order_id'},inplace=True)"
   ]
  },
  {
   "cell_type": "code",
   "execution_count": 4,
   "metadata": {},
   "outputs": [
    {
     "name": "stdout",
     "output_type": "stream",
     "text": [
      "Length of training dataset: 11,375,135\n",
      "Length of test dataset: 513,146\n"
     ]
    }
   ],
   "source": [
    "print('Length of training dataset: {:,}'.format(len(df_train.index)))\n",
    "print('Length of test dataset: {:,}'.format(len(df_test.index)))"
   ]
  },
  {
   "cell_type": "code",
   "execution_count": 5,
   "metadata": {},
   "outputs": [
    {
     "data": {
      "text/html": [
       "<div>\n",
       "<style scoped>\n",
       "    .dataframe tbody tr th:only-of-type {\n",
       "        vertical-align: middle;\n",
       "    }\n",
       "\n",
       "    .dataframe tbody tr th {\n",
       "        vertical-align: top;\n",
       "    }\n",
       "\n",
       "    .dataframe thead th {\n",
       "        text-align: right;\n",
       "    }\n",
       "</style>\n",
       "<table border=\"1\" class=\"dataframe\">\n",
       "  <thead>\n",
       "    <tr style=\"text-align: right;\">\n",
       "      <th></th>\n",
       "      <th>order_id</th>\n",
       "      <th>user_id</th>\n",
       "      <th>order_number</th>\n",
       "      <th>SucceedingOrdCnt</th>\n",
       "      <th>eval_set</th>\n",
       "      <th>order_dow</th>\n",
       "      <th>order_hour_of_day</th>\n",
       "      <th>product_id</th>\n",
       "      <th>reordered</th>\n",
       "      <th>aisle_id</th>\n",
       "      <th>...</th>\n",
       "      <th>minPrdOrd</th>\n",
       "      <th>maxOrd</th>\n",
       "      <th>possibility</th>\n",
       "      <th>ordPoss</th>\n",
       "      <th>dow_order_count</th>\n",
       "      <th>dow_item_cnt</th>\n",
       "      <th>dow_rank_diff</th>\n",
       "      <th>hour_order_count</th>\n",
       "      <th>hour_item_count</th>\n",
       "      <th>hour_rank_diff</th>\n",
       "    </tr>\n",
       "  </thead>\n",
       "  <tbody>\n",
       "    <tr>\n",
       "      <th>0</th>\n",
       "      <td>2550362</td>\n",
       "      <td>1</td>\n",
       "      <td>10</td>\n",
       "      <td>1</td>\n",
       "      <td>prior</td>\n",
       "      <td>4</td>\n",
       "      <td>8</td>\n",
       "      <td>12427</td>\n",
       "      <td>1</td>\n",
       "      <td>23</td>\n",
       "      <td>...</td>\n",
       "      <td>1</td>\n",
       "      <td>9</td>\n",
       "      <td>9</td>\n",
       "      <td>1.000000</td>\n",
       "      <td>0.125184</td>\n",
       "      <td>0.117113</td>\n",
       "      <td>0.0</td>\n",
       "      <td>0.052756</td>\n",
       "      <td>0.053516</td>\n",
       "      <td>-1.0</td>\n",
       "    </tr>\n",
       "    <tr>\n",
       "      <th>1</th>\n",
       "      <td>2550362</td>\n",
       "      <td>1</td>\n",
       "      <td>10</td>\n",
       "      <td>1</td>\n",
       "      <td>prior</td>\n",
       "      <td>4</td>\n",
       "      <td>8</td>\n",
       "      <td>13032</td>\n",
       "      <td>1</td>\n",
       "      <td>121</td>\n",
       "      <td>...</td>\n",
       "      <td>2</td>\n",
       "      <td>9</td>\n",
       "      <td>8</td>\n",
       "      <td>0.250000</td>\n",
       "      <td>0.125184</td>\n",
       "      <td>0.117113</td>\n",
       "      <td>0.0</td>\n",
       "      <td>0.052756</td>\n",
       "      <td>0.053516</td>\n",
       "      <td>-1.0</td>\n",
       "    </tr>\n",
       "    <tr>\n",
       "      <th>2</th>\n",
       "      <td>2550362</td>\n",
       "      <td>1</td>\n",
       "      <td>10</td>\n",
       "      <td>1</td>\n",
       "      <td>prior</td>\n",
       "      <td>4</td>\n",
       "      <td>8</td>\n",
       "      <td>13176</td>\n",
       "      <td>0</td>\n",
       "      <td>24</td>\n",
       "      <td>...</td>\n",
       "      <td>2</td>\n",
       "      <td>9</td>\n",
       "      <td>8</td>\n",
       "      <td>0.250000</td>\n",
       "      <td>0.125184</td>\n",
       "      <td>0.117113</td>\n",
       "      <td>0.0</td>\n",
       "      <td>0.052756</td>\n",
       "      <td>0.053516</td>\n",
       "      <td>-1.0</td>\n",
       "    </tr>\n",
       "    <tr>\n",
       "      <th>3</th>\n",
       "      <td>2550362</td>\n",
       "      <td>1</td>\n",
       "      <td>10</td>\n",
       "      <td>1</td>\n",
       "      <td>prior</td>\n",
       "      <td>4</td>\n",
       "      <td>8</td>\n",
       "      <td>14084</td>\n",
       "      <td>0</td>\n",
       "      <td>91</td>\n",
       "      <td>...</td>\n",
       "      <td>1</td>\n",
       "      <td>9</td>\n",
       "      <td>9</td>\n",
       "      <td>0.111111</td>\n",
       "      <td>0.125184</td>\n",
       "      <td>0.117113</td>\n",
       "      <td>0.0</td>\n",
       "      <td>0.052756</td>\n",
       "      <td>0.053516</td>\n",
       "      <td>-1.0</td>\n",
       "    </tr>\n",
       "    <tr>\n",
       "      <th>4</th>\n",
       "      <td>2550362</td>\n",
       "      <td>1</td>\n",
       "      <td>10</td>\n",
       "      <td>1</td>\n",
       "      <td>prior</td>\n",
       "      <td>4</td>\n",
       "      <td>8</td>\n",
       "      <td>17122</td>\n",
       "      <td>0</td>\n",
       "      <td>24</td>\n",
       "      <td>...</td>\n",
       "      <td>5</td>\n",
       "      <td>9</td>\n",
       "      <td>5</td>\n",
       "      <td>0.200000</td>\n",
       "      <td>0.125184</td>\n",
       "      <td>0.117113</td>\n",
       "      <td>0.0</td>\n",
       "      <td>0.052756</td>\n",
       "      <td>0.053516</td>\n",
       "      <td>-1.0</td>\n",
       "    </tr>\n",
       "  </tbody>\n",
       "</table>\n",
       "<p>5 rows × 44 columns</p>\n",
       "</div>"
      ],
      "text/plain": [
       "   order_id  user_id  order_number  SucceedingOrdCnt eval_set  order_dow  \\\n",
       "0   2550362        1            10                 1    prior          4   \n",
       "1   2550362        1            10                 1    prior          4   \n",
       "2   2550362        1            10                 1    prior          4   \n",
       "3   2550362        1            10                 1    prior          4   \n",
       "4   2550362        1            10                 1    prior          4   \n",
       "\n",
       "   order_hour_of_day  product_id  reordered  aisle_id       ...        \\\n",
       "0                  8       12427          1        23       ...         \n",
       "1                  8       13032          1       121       ...         \n",
       "2                  8       13176          0        24       ...         \n",
       "3                  8       14084          0        91       ...         \n",
       "4                  8       17122          0        24       ...         \n",
       "\n",
       "   minPrdOrd  maxOrd  possibility   ordPoss  dow_order_count  dow_item_cnt  \\\n",
       "0          1       9            9  1.000000         0.125184      0.117113   \n",
       "1          2       9            8  0.250000         0.125184      0.117113   \n",
       "2          2       9            8  0.250000         0.125184      0.117113   \n",
       "3          1       9            9  0.111111         0.125184      0.117113   \n",
       "4          5       9            5  0.200000         0.125184      0.117113   \n",
       "\n",
       "   dow_rank_diff  hour_order_count  hour_item_count  hour_rank_diff  \n",
       "0            0.0          0.052756         0.053516            -1.0  \n",
       "1            0.0          0.052756         0.053516            -1.0  \n",
       "2            0.0          0.052756         0.053516            -1.0  \n",
       "3            0.0          0.052756         0.053516            -1.0  \n",
       "4            0.0          0.052756         0.053516            -1.0  \n",
       "\n",
       "[5 rows x 44 columns]"
      ]
     },
     "execution_count": 5,
     "metadata": {},
     "output_type": "execute_result"
    }
   ],
   "source": [
    "df_train.head()"
   ]
  },
  {
   "cell_type": "code",
   "execution_count": 7,
   "metadata": {},
   "outputs": [
    {
     "data": {
      "text/html": [
       "<div>\n",
       "<style scoped>\n",
       "    .dataframe tbody tr th:only-of-type {\n",
       "        vertical-align: middle;\n",
       "    }\n",
       "\n",
       "    .dataframe tbody tr th {\n",
       "        vertical-align: top;\n",
       "    }\n",
       "\n",
       "    .dataframe thead th {\n",
       "        text-align: right;\n",
       "    }\n",
       "</style>\n",
       "<table border=\"1\" class=\"dataframe\">\n",
       "  <thead>\n",
       "    <tr style=\"text-align: right;\">\n",
       "      <th></th>\n",
       "      <th>order_id</th>\n",
       "      <th>user_id</th>\n",
       "      <th>order_number</th>\n",
       "      <th>SucceedingOrdCnt</th>\n",
       "      <th>eval_set</th>\n",
       "      <th>product_id</th>\n",
       "      <th>order_hour_of_day</th>\n",
       "      <th>order_dow</th>\n",
       "      <th>reordered</th>\n",
       "      <th>aisle_id</th>\n",
       "      <th>...</th>\n",
       "      <th>minPrdOrd</th>\n",
       "      <th>maxOrd</th>\n",
       "      <th>possibility</th>\n",
       "      <th>ordPoss</th>\n",
       "      <th>dow_order_count</th>\n",
       "      <th>dow_item_cnt</th>\n",
       "      <th>dow_rank_diff</th>\n",
       "      <th>hour_order_count</th>\n",
       "      <th>hour_item_count</th>\n",
       "      <th>hour_rank_diff</th>\n",
       "    </tr>\n",
       "  </thead>\n",
       "  <tbody>\n",
       "    <tr>\n",
       "      <th>0</th>\n",
       "      <td>1187899</td>\n",
       "      <td>1</td>\n",
       "      <td>11</td>\n",
       "      <td>0</td>\n",
       "      <td>train</td>\n",
       "      <td>26405.0</td>\n",
       "      <td>8.0</td>\n",
       "      <td>4.0</td>\n",
       "      <td>1.0</td>\n",
       "      <td>54.0</td>\n",
       "      <td>...</td>\n",
       "      <td>1.0</td>\n",
       "      <td>9.0</td>\n",
       "      <td>9.0</td>\n",
       "      <td>0.222222</td>\n",
       "      <td>0.125184</td>\n",
       "      <td>0.117113</td>\n",
       "      <td>0.0</td>\n",
       "      <td>0.052756</td>\n",
       "      <td>0.053516</td>\n",
       "      <td>-1.0</td>\n",
       "    </tr>\n",
       "    <tr>\n",
       "      <th>2</th>\n",
       "      <td>1187899</td>\n",
       "      <td>1</td>\n",
       "      <td>11</td>\n",
       "      <td>0</td>\n",
       "      <td>train</td>\n",
       "      <td>10258.0</td>\n",
       "      <td>8.0</td>\n",
       "      <td>4.0</td>\n",
       "      <td>1.0</td>\n",
       "      <td>117.0</td>\n",
       "      <td>...</td>\n",
       "      <td>2.0</td>\n",
       "      <td>9.0</td>\n",
       "      <td>8.0</td>\n",
       "      <td>1.000000</td>\n",
       "      <td>0.125184</td>\n",
       "      <td>0.117113</td>\n",
       "      <td>0.0</td>\n",
       "      <td>0.052756</td>\n",
       "      <td>0.053516</td>\n",
       "      <td>-1.0</td>\n",
       "    </tr>\n",
       "    <tr>\n",
       "      <th>3</th>\n",
       "      <td>1187899</td>\n",
       "      <td>1</td>\n",
       "      <td>11</td>\n",
       "      <td>0</td>\n",
       "      <td>train</td>\n",
       "      <td>13032.0</td>\n",
       "      <td>8.0</td>\n",
       "      <td>4.0</td>\n",
       "      <td>1.0</td>\n",
       "      <td>121.0</td>\n",
       "      <td>...</td>\n",
       "      <td>2.0</td>\n",
       "      <td>9.0</td>\n",
       "      <td>8.0</td>\n",
       "      <td>0.250000</td>\n",
       "      <td>0.125184</td>\n",
       "      <td>0.117113</td>\n",
       "      <td>0.0</td>\n",
       "      <td>0.052756</td>\n",
       "      <td>0.053516</td>\n",
       "      <td>-1.0</td>\n",
       "    </tr>\n",
       "    <tr>\n",
       "      <th>4</th>\n",
       "      <td>1187899</td>\n",
       "      <td>1</td>\n",
       "      <td>11</td>\n",
       "      <td>0</td>\n",
       "      <td>train</td>\n",
       "      <td>26088.0</td>\n",
       "      <td>8.0</td>\n",
       "      <td>4.0</td>\n",
       "      <td>1.0</td>\n",
       "      <td>23.0</td>\n",
       "      <td>...</td>\n",
       "      <td>1.0</td>\n",
       "      <td>9.0</td>\n",
       "      <td>9.0</td>\n",
       "      <td>0.222222</td>\n",
       "      <td>0.125184</td>\n",
       "      <td>0.117113</td>\n",
       "      <td>0.0</td>\n",
       "      <td>0.052756</td>\n",
       "      <td>0.053516</td>\n",
       "      <td>-1.0</td>\n",
       "    </tr>\n",
       "    <tr>\n",
       "      <th>6</th>\n",
       "      <td>1187899</td>\n",
       "      <td>1</td>\n",
       "      <td>11</td>\n",
       "      <td>0</td>\n",
       "      <td>train</td>\n",
       "      <td>49235.0</td>\n",
       "      <td>8.0</td>\n",
       "      <td>4.0</td>\n",
       "      <td>1.0</td>\n",
       "      <td>53.0</td>\n",
       "      <td>...</td>\n",
       "      <td>8.0</td>\n",
       "      <td>9.0</td>\n",
       "      <td>2.0</td>\n",
       "      <td>1.000000</td>\n",
       "      <td>0.125184</td>\n",
       "      <td>0.117113</td>\n",
       "      <td>0.0</td>\n",
       "      <td>0.052756</td>\n",
       "      <td>0.053516</td>\n",
       "      <td>-1.0</td>\n",
       "    </tr>\n",
       "  </tbody>\n",
       "</table>\n",
       "<p>5 rows × 45 columns</p>\n",
       "</div>"
      ],
      "text/plain": [
       "   order_id  user_id  order_number  SucceedingOrdCnt eval_set  product_id  \\\n",
       "0   1187899        1            11                 0    train     26405.0   \n",
       "2   1187899        1            11                 0    train     10258.0   \n",
       "3   1187899        1            11                 0    train     13032.0   \n",
       "4   1187899        1            11                 0    train     26088.0   \n",
       "6   1187899        1            11                 0    train     49235.0   \n",
       "\n",
       "   order_hour_of_day  order_dow  reordered  aisle_id       ...        \\\n",
       "0                8.0        4.0        1.0      54.0       ...         \n",
       "2                8.0        4.0        1.0     117.0       ...         \n",
       "3                8.0        4.0        1.0     121.0       ...         \n",
       "4                8.0        4.0        1.0      23.0       ...         \n",
       "6                8.0        4.0        1.0      53.0       ...         \n",
       "\n",
       "   minPrdOrd  maxOrd  possibility   ordPoss  dow_order_count  dow_item_cnt  \\\n",
       "0        1.0     9.0          9.0  0.222222         0.125184      0.117113   \n",
       "2        2.0     9.0          8.0  1.000000         0.125184      0.117113   \n",
       "3        2.0     9.0          8.0  0.250000         0.125184      0.117113   \n",
       "4        1.0     9.0          9.0  0.222222         0.125184      0.117113   \n",
       "6        8.0     9.0          2.0  1.000000         0.125184      0.117113   \n",
       "\n",
       "   dow_rank_diff  hour_order_count  hour_item_count  hour_rank_diff  \n",
       "0            0.0          0.052756         0.053516            -1.0  \n",
       "2            0.0          0.052756         0.053516            -1.0  \n",
       "3            0.0          0.052756         0.053516            -1.0  \n",
       "4            0.0          0.052756         0.053516            -1.0  \n",
       "6            0.0          0.052756         0.053516            -1.0  \n",
       "\n",
       "[5 rows x 45 columns]"
      ]
     },
     "execution_count": 7,
     "metadata": {},
     "output_type": "execute_result"
    }
   ],
   "source": [
    "df_test.head()"
   ]
  },
  {
   "cell_type": "code",
   "execution_count": 6,
   "metadata": {},
   "outputs": [],
   "source": [
    "df_test.rename(columns={'order_id_x':'order_id'},inplace=True)"
   ]
  },
  {
   "cell_type": "code",
   "execution_count": 8,
   "metadata": {},
   "outputs": [],
   "source": [
    "# Replace any infinity values that may have appeared as a result of ratio calculation in feature engineering phase\n",
    "# with null values\n",
    "df_train.replace([np.inf, -np.inf], np.nan,inplace=True)\n",
    "\n",
    "df_test.replace([np.inf, -np.inf], np.nan,inplace=True)"
   ]
  },
  {
   "cell_type": "code",
   "execution_count": 9,
   "metadata": {},
   "outputs": [],
   "source": [
    "#Replace null values with zeroes.\n",
    "df_train['total_buy_ratio'].fillna(value=0,inplace=True)\n",
    "df_test['total_buy_ratio'].fillna(value=0,inplace=True)"
   ]
  },
  {
   "cell_type": "code",
   "execution_count": 10,
   "metadata": {
    "scrolled": true
   },
   "outputs": [],
   "source": [
    "df_train_OrdUsr = df_train[['order_id','user_id']]\n",
    "df_test_OrdUsr = df_test[['order_id','user_id']]"
   ]
  },
  {
   "cell_type": "code",
   "execution_count": 11,
   "metadata": {},
   "outputs": [],
   "source": [
    "#drop unnecessary columns\n",
    "df_train=df_train.drop(['eval_set','order_id','user_id','t-1_order_id','t-2_order_id','t-3_order_id'],axis=1)\n",
    "df_test=df_test.drop(['eval_set','order_id','order_id_y','user_id','t-1_order_id','t-2_order_id','t-3_order_id'],axis=1)"
   ]
  },
  {
   "cell_type": "code",
   "execution_count": 12,
   "metadata": {},
   "outputs": [],
   "source": [
    "#Convert object type columns to category to save memory space.\n",
    "df_train[['reordered','product_id']] = df_train[['reordered','product_id']].astype('category')\n",
    "df_test[['reordered','product_id']] = df_test[['reordered','product_id']].astype('category')"
   ]
  },
  {
   "cell_type": "code",
   "execution_count": 13,
   "metadata": {},
   "outputs": [],
   "source": [
    "num_col = ['order_number','SucceedingOrdCnt','order_hour_of_day','order_dow','user_order_size-min','user_order_size-max','user_order_size-median','user_order_size-mean','user_order_size-std','item_hour_cnt','itemHrDist','unique_item_hour_cnt','unqItemHrDist','item_dow_cnt','itemDowDist','unique_item_dow_cnt','unqItemDowDist','prodComb_mean','prodComb_min','prodComb_max','prodComb_std','total_buy','total_buy_ratio','count','minPrdOrd','maxOrd','possibility','ordPoss','dow_order_count','dow_item_cnt','dow_rank_diff','hour_order_count','hour_item_count','hour_rank_diff']\n",
    "\n",
    "cat_col = ['aisle_id','department_id']"
   ]
  },
  {
   "cell_type": "code",
   "execution_count": 14,
   "metadata": {},
   "outputs": [],
   "source": [
    "df_train[cat_col]=df_train[cat_col].astype(object)\n",
    "df_test[cat_col]=df_test[cat_col].astype(object)"
   ]
  },
  {
   "cell_type": "code",
   "execution_count": 15,
   "metadata": {},
   "outputs": [],
   "source": [
    "from sklearn.preprocessing import MinMaxScaler\n",
    "scaler = MinMaxScaler()"
   ]
  },
  {
   "cell_type": "code",
   "execution_count": 16,
   "metadata": {},
   "outputs": [],
   "source": [
    "df_train_mm = pd.DataFrame(data=df_train)\n",
    "df_test_mm = pd.DataFrame(data=df_test)"
   ]
  },
  {
   "cell_type": "code",
   "execution_count": 17,
   "metadata": {
    "scrolled": true
   },
   "outputs": [
    {
     "name": "stderr",
     "output_type": "stream",
     "text": [
      "C:\\Users\\RajChoul\\Anaconda3\\lib\\site-packages\\sklearn\\preprocessing\\data.py:323: DataConversionWarning: Data with input dtype int64, float64 were all converted to float64 by MinMaxScaler.\n",
      "  return self.partial_fit(X, y)\n",
      "C:\\Users\\RajChoul\\Anaconda3\\lib\\site-packages\\sklearn\\preprocessing\\data.py:323: DataConversionWarning: Data with input dtype int64, float64 were all converted to float64 by MinMaxScaler.\n",
      "  return self.partial_fit(X, y)\n"
     ]
    }
   ],
   "source": [
    "#Scale numeric columns to bring them all on to same scale\n",
    "df_train_mm[num_col] = scaler.fit_transform(df_train[num_col])\n",
    "df_test_mm[num_col] = scaler.fit_transform(df_test[num_col])"
   ]
  },
  {
   "cell_type": "code",
   "execution_count": 18,
   "metadata": {},
   "outputs": [],
   "source": [
    "#Create dummy variables for category/object variables\n",
    "df_train_T = pd.get_dummies(data=df_train_mm,prefix=cat_col,columns=cat_col)\n",
    "df_test_T = pd.get_dummies(data=df_test_mm,prefix=cat_col,columns=cat_col)"
   ]
  },
  {
   "cell_type": "code",
   "execution_count": 19,
   "metadata": {},
   "outputs": [],
   "source": [
    "# Extract random sample from the complete dataset\n",
    "df_train_T_sample = df_train_T.sample(frac=0.005,random_state=75)\n",
    "df_test_T_sample = df_test_T.sample(frac=0.1,random_state=19)"
   ]
  },
  {
   "cell_type": "code",
   "execution_count": 20,
   "metadata": {},
   "outputs": [],
   "source": [
    "# Separate independent and dependent variables in the training dataset\n",
    "products_train=df_train_T_sample['product_id']\n",
    "features_train = df_train_T_sample.drop(['product_id'],axis=1)"
   ]
  },
  {
   "cell_type": "code",
   "execution_count": 21,
   "metadata": {},
   "outputs": [],
   "source": [
    "# Separate independent and dependent variables in the test dataset\n",
    "products_test=df_test_T_sample['product_id']\n",
    "features_test = df_test_T_sample.drop(['product_id'],axis=1)"
   ]
  },
  {
   "cell_type": "code",
   "execution_count": 22,
   "metadata": {},
   "outputs": [
    {
     "data": {
      "text/plain": [
       "95"
      ]
     },
     "execution_count": 22,
     "metadata": {},
     "output_type": "execute_result"
    }
   ],
   "source": [
    "# Delete dataframes no longer required to save memory\n",
    "del df_train_T_sample, df_train, df_train_mm, df_train_T\n",
    "del df_test_T_sample, df_test, df_test_mm, df_test_T\n",
    "gc.collect()"
   ]
  },
  {
   "cell_type": "code",
   "execution_count": 23,
   "metadata": {},
   "outputs": [
    {
     "data": {
      "text/plain": [
       "8654196    42265\n",
       "552776     39512\n",
       "602962     30135\n",
       "1181795     8442\n",
       "1884369    26032\n",
       "Name: product_id, dtype: category\n",
       "Categories (46624, int64): [45, 57, 59, 65, ..., 49685, 49686, 49687, 49688]"
      ]
     },
     "execution_count": 23,
     "metadata": {},
     "output_type": "execute_result"
    }
   ],
   "source": [
    "products_train.head()"
   ]
  },
  {
   "cell_type": "code",
   "execution_count": 24,
   "metadata": {
    "scrolled": true
   },
   "outputs": [
    {
     "data": {
      "text/plain": [
       "order_number               float64\n",
       "SucceedingOrdCnt           float64\n",
       "order_dow                  float64\n",
       "order_hour_of_day          float64\n",
       "reordered                 category\n",
       "user_order_size-min        float64\n",
       "user_order_size-max        float64\n",
       "user_order_size-median     float64\n",
       "user_order_size-mean       float64\n",
       "user_order_size-std        float64\n",
       "item_hour_cnt              float64\n",
       "itemHrDist                 float64\n",
       "unique_item_hour_cnt       float64\n",
       "unqItemHrDist              float64\n",
       "item_dow_cnt               float64\n",
       "itemDowDist                float64\n",
       "unique_item_dow_cnt        float64\n",
       "unqItemDowDist             float64\n",
       "prodComb_mean              float64\n",
       "prodComb_min               float64\n",
       "prodComb_max               float64\n",
       "prodComb_std               float64\n",
       "total_buy                  float64\n",
       "total_buy_ratio            float64\n",
       "count                      float64\n",
       "minPrdOrd                  float64\n",
       "maxOrd                     float64\n",
       "possibility                float64\n",
       "ordPoss                    float64\n",
       "dow_order_count            float64\n",
       "                            ...   \n",
       "aisle_id_126                 uint8\n",
       "aisle_id_127                 uint8\n",
       "aisle_id_128                 uint8\n",
       "aisle_id_129                 uint8\n",
       "aisle_id_130                 uint8\n",
       "aisle_id_131                 uint8\n",
       "aisle_id_132                 uint8\n",
       "aisle_id_133                 uint8\n",
       "aisle_id_134                 uint8\n",
       "department_id_1              uint8\n",
       "department_id_2              uint8\n",
       "department_id_3              uint8\n",
       "department_id_4              uint8\n",
       "department_id_5              uint8\n",
       "department_id_6              uint8\n",
       "department_id_7              uint8\n",
       "department_id_8              uint8\n",
       "department_id_9              uint8\n",
       "department_id_10             uint8\n",
       "department_id_11             uint8\n",
       "department_id_12             uint8\n",
       "department_id_13             uint8\n",
       "department_id_14             uint8\n",
       "department_id_15             uint8\n",
       "department_id_16             uint8\n",
       "department_id_17             uint8\n",
       "department_id_18             uint8\n",
       "department_id_19             uint8\n",
       "department_id_20             uint8\n",
       "department_id_21             uint8\n",
       "Length: 190, dtype: object"
      ]
     },
     "execution_count": 24,
     "metadata": {},
     "output_type": "execute_result"
    }
   ],
   "source": [
    "features_train.dtypes"
   ]
  },
  {
   "cell_type": "code",
   "execution_count": 25,
   "metadata": {
    "scrolled": true
   },
   "outputs": [
    {
     "data": {
      "text/plain": [
       "order_number               float64\n",
       "SucceedingOrdCnt           float64\n",
       "order_hour_of_day          float64\n",
       "order_dow                  float64\n",
       "reordered                 category\n",
       "user_order_size-min        float64\n",
       "user_order_size-max        float64\n",
       "user_order_size-median     float64\n",
       "user_order_size-mean       float64\n",
       "user_order_size-std        float64\n",
       "item_hour_cnt              float64\n",
       "itemHrDist                 float64\n",
       "unique_item_hour_cnt       float64\n",
       "unqItemHrDist              float64\n",
       "item_dow_cnt               float64\n",
       "itemDowDist                float64\n",
       "unique_item_dow_cnt        float64\n",
       "unqItemDowDist             float64\n",
       "prodComb_mean              float64\n",
       "prodComb_min               float64\n",
       "prodComb_max               float64\n",
       "prodComb_std               float64\n",
       "total_buy                  float64\n",
       "total_buy_ratio            float64\n",
       "count                      float64\n",
       "minPrdOrd                  float64\n",
       "maxOrd                     float64\n",
       "possibility                float64\n",
       "ordPoss                    float64\n",
       "dow_order_count            float64\n",
       "                            ...   \n",
       "aisle_id_126.0               uint8\n",
       "aisle_id_127.0               uint8\n",
       "aisle_id_128.0               uint8\n",
       "aisle_id_129.0               uint8\n",
       "aisle_id_130.0               uint8\n",
       "aisle_id_131.0               uint8\n",
       "aisle_id_132.0               uint8\n",
       "aisle_id_133.0               uint8\n",
       "aisle_id_134.0               uint8\n",
       "department_id_1.0            uint8\n",
       "department_id_2.0            uint8\n",
       "department_id_3.0            uint8\n",
       "department_id_4.0            uint8\n",
       "department_id_5.0            uint8\n",
       "department_id_6.0            uint8\n",
       "department_id_7.0            uint8\n",
       "department_id_8.0            uint8\n",
       "department_id_9.0            uint8\n",
       "department_id_10.0           uint8\n",
       "department_id_11.0           uint8\n",
       "department_id_12.0           uint8\n",
       "department_id_13.0           uint8\n",
       "department_id_14.0           uint8\n",
       "department_id_15.0           uint8\n",
       "department_id_16.0           uint8\n",
       "department_id_17.0           uint8\n",
       "department_id_18.0           uint8\n",
       "department_id_19.0           uint8\n",
       "department_id_20.0           uint8\n",
       "department_id_21.0           uint8\n",
       "Length: 190, dtype: object"
      ]
     },
     "execution_count": 25,
     "metadata": {},
     "output_type": "execute_result"
    }
   ],
   "source": [
    "features_test.dtypes"
   ]
  },
  {
   "cell_type": "code",
   "execution_count": 26,
   "metadata": {},
   "outputs": [
    {
     "data": {
      "text/html": [
       "<div>\n",
       "<style scoped>\n",
       "    .dataframe tbody tr th:only-of-type {\n",
       "        vertical-align: middle;\n",
       "    }\n",
       "\n",
       "    .dataframe tbody tr th {\n",
       "        vertical-align: top;\n",
       "    }\n",
       "\n",
       "    .dataframe thead th {\n",
       "        text-align: right;\n",
       "    }\n",
       "</style>\n",
       "<table border=\"1\" class=\"dataframe\">\n",
       "  <thead>\n",
       "    <tr style=\"text-align: right;\">\n",
       "      <th></th>\n",
       "      <th>order_number</th>\n",
       "      <th>SucceedingOrdCnt</th>\n",
       "      <th>order_dow</th>\n",
       "      <th>order_hour_of_day</th>\n",
       "      <th>reordered</th>\n",
       "      <th>user_order_size-min</th>\n",
       "      <th>user_order_size-max</th>\n",
       "      <th>user_order_size-median</th>\n",
       "      <th>user_order_size-mean</th>\n",
       "      <th>user_order_size-std</th>\n",
       "      <th>...</th>\n",
       "      <th>department_id_12</th>\n",
       "      <th>department_id_13</th>\n",
       "      <th>department_id_14</th>\n",
       "      <th>department_id_15</th>\n",
       "      <th>department_id_16</th>\n",
       "      <th>department_id_17</th>\n",
       "      <th>department_id_18</th>\n",
       "      <th>department_id_19</th>\n",
       "      <th>department_id_20</th>\n",
       "      <th>department_id_21</th>\n",
       "    </tr>\n",
       "  </thead>\n",
       "  <tbody>\n",
       "    <tr>\n",
       "      <th>8654196</th>\n",
       "      <td>0.041237</td>\n",
       "      <td>0.0</td>\n",
       "      <td>0.000000</td>\n",
       "      <td>0.608696</td>\n",
       "      <td>0</td>\n",
       "      <td>0.02</td>\n",
       "      <td>0.062500</td>\n",
       "      <td>0.013793</td>\n",
       "      <td>0.036101</td>\n",
       "      <td>0.058944</td>\n",
       "      <td>...</td>\n",
       "      <td>0</td>\n",
       "      <td>0</td>\n",
       "      <td>0</td>\n",
       "      <td>0</td>\n",
       "      <td>0</td>\n",
       "      <td>0</td>\n",
       "      <td>0</td>\n",
       "      <td>0</td>\n",
       "      <td>0</td>\n",
       "      <td>0</td>\n",
       "    </tr>\n",
       "    <tr>\n",
       "      <th>552776</th>\n",
       "      <td>0.525773</td>\n",
       "      <td>0.0</td>\n",
       "      <td>1.000000</td>\n",
       "      <td>0.608696</td>\n",
       "      <td>0</td>\n",
       "      <td>0.00</td>\n",
       "      <td>0.277778</td>\n",
       "      <td>0.110345</td>\n",
       "      <td>0.166746</td>\n",
       "      <td>0.189559</td>\n",
       "      <td>...</td>\n",
       "      <td>0</td>\n",
       "      <td>1</td>\n",
       "      <td>0</td>\n",
       "      <td>0</td>\n",
       "      <td>0</td>\n",
       "      <td>0</td>\n",
       "      <td>0</td>\n",
       "      <td>0</td>\n",
       "      <td>0</td>\n",
       "      <td>0</td>\n",
       "    </tr>\n",
       "    <tr>\n",
       "      <th>602962</th>\n",
       "      <td>0.154639</td>\n",
       "      <td>0.0</td>\n",
       "      <td>0.166667</td>\n",
       "      <td>0.782609</td>\n",
       "      <td>1</td>\n",
       "      <td>0.04</td>\n",
       "      <td>0.083333</td>\n",
       "      <td>0.068966</td>\n",
       "      <td>0.086643</td>\n",
       "      <td>0.053152</td>\n",
       "      <td>...</td>\n",
       "      <td>0</td>\n",
       "      <td>0</td>\n",
       "      <td>0</td>\n",
       "      <td>0</td>\n",
       "      <td>0</td>\n",
       "      <td>0</td>\n",
       "      <td>0</td>\n",
       "      <td>0</td>\n",
       "      <td>0</td>\n",
       "      <td>0</td>\n",
       "    </tr>\n",
       "    <tr>\n",
       "      <th>1181795</th>\n",
       "      <td>0.989691</td>\n",
       "      <td>0.0</td>\n",
       "      <td>0.166667</td>\n",
       "      <td>0.695652</td>\n",
       "      <td>0</td>\n",
       "      <td>0.00</td>\n",
       "      <td>0.305556</td>\n",
       "      <td>0.117241</td>\n",
       "      <td>0.179327</td>\n",
       "      <td>0.181817</td>\n",
       "      <td>...</td>\n",
       "      <td>0</td>\n",
       "      <td>0</td>\n",
       "      <td>0</td>\n",
       "      <td>0</td>\n",
       "      <td>0</td>\n",
       "      <td>0</td>\n",
       "      <td>0</td>\n",
       "      <td>0</td>\n",
       "      <td>0</td>\n",
       "      <td>0</td>\n",
       "    </tr>\n",
       "    <tr>\n",
       "      <th>1884369</th>\n",
       "      <td>0.206186</td>\n",
       "      <td>0.0</td>\n",
       "      <td>0.666667</td>\n",
       "      <td>0.695652</td>\n",
       "      <td>0</td>\n",
       "      <td>0.02</td>\n",
       "      <td>0.215278</td>\n",
       "      <td>0.137931</td>\n",
       "      <td>0.162783</td>\n",
       "      <td>0.162424</td>\n",
       "      <td>...</td>\n",
       "      <td>0</td>\n",
       "      <td>0</td>\n",
       "      <td>0</td>\n",
       "      <td>0</td>\n",
       "      <td>1</td>\n",
       "      <td>0</td>\n",
       "      <td>0</td>\n",
       "      <td>0</td>\n",
       "      <td>0</td>\n",
       "      <td>0</td>\n",
       "    </tr>\n",
       "  </tbody>\n",
       "</table>\n",
       "<p>5 rows × 190 columns</p>\n",
       "</div>"
      ],
      "text/plain": [
       "         order_number  SucceedingOrdCnt  order_dow  order_hour_of_day  \\\n",
       "8654196      0.041237               0.0   0.000000           0.608696   \n",
       "552776       0.525773               0.0   1.000000           0.608696   \n",
       "602962       0.154639               0.0   0.166667           0.782609   \n",
       "1181795      0.989691               0.0   0.166667           0.695652   \n",
       "1884369      0.206186               0.0   0.666667           0.695652   \n",
       "\n",
       "        reordered  user_order_size-min  user_order_size-max  \\\n",
       "8654196         0                 0.02             0.062500   \n",
       "552776          0                 0.00             0.277778   \n",
       "602962          1                 0.04             0.083333   \n",
       "1181795         0                 0.00             0.305556   \n",
       "1884369         0                 0.02             0.215278   \n",
       "\n",
       "         user_order_size-median  user_order_size-mean  user_order_size-std  \\\n",
       "8654196                0.013793              0.036101             0.058944   \n",
       "552776                 0.110345              0.166746             0.189559   \n",
       "602962                 0.068966              0.086643             0.053152   \n",
       "1181795                0.117241              0.179327             0.181817   \n",
       "1884369                0.137931              0.162783             0.162424   \n",
       "\n",
       "               ...         department_id_12  department_id_13  \\\n",
       "8654196        ...                        0                 0   \n",
       "552776         ...                        0                 1   \n",
       "602962         ...                        0                 0   \n",
       "1181795        ...                        0                 0   \n",
       "1884369        ...                        0                 0   \n",
       "\n",
       "         department_id_14  department_id_15  department_id_16  \\\n",
       "8654196                 0                 0                 0   \n",
       "552776                  0                 0                 0   \n",
       "602962                  0                 0                 0   \n",
       "1181795                 0                 0                 0   \n",
       "1884369                 0                 0                 1   \n",
       "\n",
       "         department_id_17  department_id_18  department_id_19  \\\n",
       "8654196                 0                 0                 0   \n",
       "552776                  0                 0                 0   \n",
       "602962                  0                 0                 0   \n",
       "1181795                 0                 0                 0   \n",
       "1884369                 0                 0                 0   \n",
       "\n",
       "         department_id_20  department_id_21  \n",
       "8654196                 0                 0  \n",
       "552776                  0                 0  \n",
       "602962                  0                 0  \n",
       "1181795                 0                 0  \n",
       "1884369                 0                 0  \n",
       "\n",
       "[5 rows x 190 columns]"
      ]
     },
     "execution_count": 26,
     "metadata": {},
     "output_type": "execute_result"
    }
   ],
   "source": [
    "features_train.head()"
   ]
  },
  {
   "cell_type": "code",
   "execution_count": 27,
   "metadata": {},
   "outputs": [
    {
     "data": {
      "text/html": [
       "<div>\n",
       "<style scoped>\n",
       "    .dataframe tbody tr th:only-of-type {\n",
       "        vertical-align: middle;\n",
       "    }\n",
       "\n",
       "    .dataframe tbody tr th {\n",
       "        vertical-align: top;\n",
       "    }\n",
       "\n",
       "    .dataframe thead th {\n",
       "        text-align: right;\n",
       "    }\n",
       "</style>\n",
       "<table border=\"1\" class=\"dataframe\">\n",
       "  <thead>\n",
       "    <tr style=\"text-align: right;\">\n",
       "      <th></th>\n",
       "      <th>order_number</th>\n",
       "      <th>SucceedingOrdCnt</th>\n",
       "      <th>order_hour_of_day</th>\n",
       "      <th>order_dow</th>\n",
       "      <th>reordered</th>\n",
       "      <th>user_order_size-min</th>\n",
       "      <th>user_order_size-max</th>\n",
       "      <th>user_order_size-median</th>\n",
       "      <th>user_order_size-mean</th>\n",
       "      <th>user_order_size-std</th>\n",
       "      <th>...</th>\n",
       "      <th>department_id_12.0</th>\n",
       "      <th>department_id_13.0</th>\n",
       "      <th>department_id_14.0</th>\n",
       "      <th>department_id_15.0</th>\n",
       "      <th>department_id_16.0</th>\n",
       "      <th>department_id_17.0</th>\n",
       "      <th>department_id_18.0</th>\n",
       "      <th>department_id_19.0</th>\n",
       "      <th>department_id_20.0</th>\n",
       "      <th>department_id_21.0</th>\n",
       "    </tr>\n",
       "  </thead>\n",
       "  <tbody>\n",
       "    <tr>\n",
       "      <th>52540</th>\n",
       "      <td>0.083333</td>\n",
       "      <td>0.0</td>\n",
       "      <td>0.521739</td>\n",
       "      <td>0.500000</td>\n",
       "      <td>1.0</td>\n",
       "      <td>0.06</td>\n",
       "      <td>0.159722</td>\n",
       "      <td>0.179310</td>\n",
       "      <td>0.199541</td>\n",
       "      <td>0.176616</td>\n",
       "      <td>...</td>\n",
       "      <td>0</td>\n",
       "      <td>0</td>\n",
       "      <td>0</td>\n",
       "      <td>0</td>\n",
       "      <td>0</td>\n",
       "      <td>0</td>\n",
       "      <td>0</td>\n",
       "      <td>0</td>\n",
       "      <td>0</td>\n",
       "      <td>0</td>\n",
       "    </tr>\n",
       "    <tr>\n",
       "      <th>264527</th>\n",
       "      <td>0.208333</td>\n",
       "      <td>0.0</td>\n",
       "      <td>0.478261</td>\n",
       "      <td>0.166667</td>\n",
       "      <td>1.0</td>\n",
       "      <td>0.04</td>\n",
       "      <td>0.069444</td>\n",
       "      <td>0.082759</td>\n",
       "      <td>0.087898</td>\n",
       "      <td>0.063213</td>\n",
       "      <td>...</td>\n",
       "      <td>0</td>\n",
       "      <td>0</td>\n",
       "      <td>0</td>\n",
       "      <td>0</td>\n",
       "      <td>0</td>\n",
       "      <td>0</td>\n",
       "      <td>0</td>\n",
       "      <td>0</td>\n",
       "      <td>0</td>\n",
       "      <td>0</td>\n",
       "    </tr>\n",
       "    <tr>\n",
       "      <th>92582</th>\n",
       "      <td>0.114583</td>\n",
       "      <td>0.0</td>\n",
       "      <td>0.521739</td>\n",
       "      <td>0.500000</td>\n",
       "      <td>1.0</td>\n",
       "      <td>0.14</td>\n",
       "      <td>0.104167</td>\n",
       "      <td>0.131034</td>\n",
       "      <td>0.148530</td>\n",
       "      <td>0.064037</td>\n",
       "      <td>...</td>\n",
       "      <td>0</td>\n",
       "      <td>0</td>\n",
       "      <td>0</td>\n",
       "      <td>0</td>\n",
       "      <td>0</td>\n",
       "      <td>0</td>\n",
       "      <td>0</td>\n",
       "      <td>0</td>\n",
       "      <td>0</td>\n",
       "      <td>0</td>\n",
       "    </tr>\n",
       "    <tr>\n",
       "      <th>555789</th>\n",
       "      <td>0.031250</td>\n",
       "      <td>0.0</td>\n",
       "      <td>0.391304</td>\n",
       "      <td>0.166667</td>\n",
       "      <td>1.0</td>\n",
       "      <td>0.00</td>\n",
       "      <td>0.111111</td>\n",
       "      <td>0.103448</td>\n",
       "      <td>0.110710</td>\n",
       "      <td>0.153708</td>\n",
       "      <td>...</td>\n",
       "      <td>0</td>\n",
       "      <td>0</td>\n",
       "      <td>0</td>\n",
       "      <td>0</td>\n",
       "      <td>0</td>\n",
       "      <td>0</td>\n",
       "      <td>0</td>\n",
       "      <td>0</td>\n",
       "      <td>0</td>\n",
       "      <td>0</td>\n",
       "    </tr>\n",
       "    <tr>\n",
       "      <th>892857</th>\n",
       "      <td>0.031250</td>\n",
       "      <td>0.0</td>\n",
       "      <td>0.434783</td>\n",
       "      <td>0.666667</td>\n",
       "      <td>1.0</td>\n",
       "      <td>0.16</td>\n",
       "      <td>0.215278</td>\n",
       "      <td>0.193103</td>\n",
       "      <td>0.231047</td>\n",
       "      <td>0.189495</td>\n",
       "      <td>...</td>\n",
       "      <td>0</td>\n",
       "      <td>0</td>\n",
       "      <td>0</td>\n",
       "      <td>0</td>\n",
       "      <td>0</td>\n",
       "      <td>0</td>\n",
       "      <td>0</td>\n",
       "      <td>0</td>\n",
       "      <td>0</td>\n",
       "      <td>0</td>\n",
       "    </tr>\n",
       "  </tbody>\n",
       "</table>\n",
       "<p>5 rows × 190 columns</p>\n",
       "</div>"
      ],
      "text/plain": [
       "        order_number  SucceedingOrdCnt  order_hour_of_day  order_dow  \\\n",
       "52540       0.083333               0.0           0.521739   0.500000   \n",
       "264527      0.208333               0.0           0.478261   0.166667   \n",
       "92582       0.114583               0.0           0.521739   0.500000   \n",
       "555789      0.031250               0.0           0.391304   0.166667   \n",
       "892857      0.031250               0.0           0.434783   0.666667   \n",
       "\n",
       "       reordered  user_order_size-min  user_order_size-max  \\\n",
       "52540        1.0                 0.06             0.159722   \n",
       "264527       1.0                 0.04             0.069444   \n",
       "92582        1.0                 0.14             0.104167   \n",
       "555789       1.0                 0.00             0.111111   \n",
       "892857       1.0                 0.16             0.215278   \n",
       "\n",
       "        user_order_size-median  user_order_size-mean  user_order_size-std  \\\n",
       "52540                 0.179310              0.199541             0.176616   \n",
       "264527                0.082759              0.087898             0.063213   \n",
       "92582                 0.131034              0.148530             0.064037   \n",
       "555789                0.103448              0.110710             0.153708   \n",
       "892857                0.193103              0.231047             0.189495   \n",
       "\n",
       "               ...          department_id_12.0  department_id_13.0  \\\n",
       "52540          ...                           0                   0   \n",
       "264527         ...                           0                   0   \n",
       "92582          ...                           0                   0   \n",
       "555789         ...                           0                   0   \n",
       "892857         ...                           0                   0   \n",
       "\n",
       "        department_id_14.0  department_id_15.0  department_id_16.0  \\\n",
       "52540                    0                   0                   0   \n",
       "264527                   0                   0                   0   \n",
       "92582                    0                   0                   0   \n",
       "555789                   0                   0                   0   \n",
       "892857                   0                   0                   0   \n",
       "\n",
       "        department_id_17.0  department_id_18.0  department_id_19.0  \\\n",
       "52540                    0                   0                   0   \n",
       "264527                   0                   0                   0   \n",
       "92582                    0                   0                   0   \n",
       "555789                   0                   0                   0   \n",
       "892857                   0                   0                   0   \n",
       "\n",
       "        department_id_20.0  department_id_21.0  \n",
       "52540                    0                   0  \n",
       "264527                   0                   0  \n",
       "92582                    0                   0  \n",
       "555789                   0                   0  \n",
       "892857                   0                   0  \n",
       "\n",
       "[5 rows x 190 columns]"
      ]
     },
     "execution_count": 27,
     "metadata": {},
     "output_type": "execute_result"
    }
   ],
   "source": [
    "features_test.head()"
   ]
  },
  {
   "cell_type": "code",
   "execution_count": 28,
   "metadata": {},
   "outputs": [
    {
     "data": {
      "text/plain": [
       "56876"
      ]
     },
     "execution_count": 28,
     "metadata": {},
     "output_type": "execute_result"
    }
   ],
   "source": [
    "len(features_train.index)"
   ]
  },
  {
   "cell_type": "code",
   "execution_count": 29,
   "metadata": {},
   "outputs": [
    {
     "data": {
      "text/plain": [
       "56876"
      ]
     },
     "execution_count": 29,
     "metadata": {},
     "output_type": "execute_result"
    }
   ],
   "source": [
    "len(products_train.index)"
   ]
  },
  {
   "cell_type": "code",
   "execution_count": 30,
   "metadata": {},
   "outputs": [
    {
     "data": {
      "text/plain": [
       "51315"
      ]
     },
     "execution_count": 30,
     "metadata": {},
     "output_type": "execute_result"
    }
   ],
   "source": [
    "len(features_test.index)"
   ]
  },
  {
   "cell_type": "code",
   "execution_count": 31,
   "metadata": {},
   "outputs": [
    {
     "data": {
      "text/plain": [
       "51315"
      ]
     },
     "execution_count": 31,
     "metadata": {},
     "output_type": "execute_result"
    }
   ],
   "source": [
    "len(products_test.index)"
   ]
  },
  {
   "cell_type": "code",
   "execution_count": 32,
   "metadata": {},
   "outputs": [],
   "source": [
    "from sklearn.metrics import f1_score, make_scorer, confusion_matrix\n",
    "from sklearn.model_selection import GridSearchCV, ShuffleSplit\n",
    "from sklearn.ensemble import RandomForestClassifier, AdaBoostClassifier\n",
    "from sklearn.svm import SVC\n",
    "from sklearn.tree import DecisionTreeClassifier\n",
    "from sklearn.model_selection import train_test_split\n",
    "import scikitplot as skplt"
   ]
  },
  {
   "cell_type": "code",
   "execution_count": 25,
   "metadata": {},
   "outputs": [],
   "source": [
    "#Split train and test dataset for training and validation\n",
    "X_train, X_test, y_train, y_test = train_test_split(features_train, products_train, test_size = 0.2, random_state = 0)"
   ]
  },
  {
   "cell_type": "code",
   "execution_count": 26,
   "metadata": {},
   "outputs": [],
   "source": [
    "def train_predict(classifier, sample_size, X_train, y_train, X_test, y_test): \n",
    "    \n",
    "    results = {}\n",
    "    \n",
    "    # Fit the learner to the training data using slicing with 'sample_size' using .fit(training_features[:], training_labels[:])\n",
    "    start = time() # Get start time\n",
    "    learner = classifier.fit(X_train[:sample_size],y_train[:sample_size])\n",
    "    end = time() # Get end time\n",
    "    \n",
    "    # Calculate the training time\n",
    "    results['train_time'] = end-start\n",
    "        \n",
    "    # Get the predictions on the test set(X_test),\n",
    "    # then get predictions on the first 300 training samples(X_train) using .predict()\n",
    "    start = time() # Get start time\n",
    "    predictions_test = classifier.predict(X_test)\n",
    "    predictions_train = classifier.predict(X_train[:300])\n",
    "    end = time() # Get end time\n",
    "    \n",
    "    # Calculate the total prediction time\n",
    "    results['pred_time'] = end-start\n",
    "            \n",
    "    # Compute F1-score on the the first 300 training samples using fbeta_score()\n",
    "    results['f_train'] = f1_score(y_train[:300],predictions_train,average='micro')\n",
    "        \n",
    "    # Compute F1-score on the test set which is y_test\n",
    "    results['f_test'] = f1_score(y_test,predictions_test,average='micro')\n",
    "       \n",
    "    # Success\n",
    "    print(\"{} trained on {} samples.\".format(classifier.__class__.__name__, sample_size))\n",
    "        \n",
    "    # Return the results\n",
    "    return results"
   ]
  },
  {
   "cell_type": "code",
   "execution_count": 27,
   "metadata": {},
   "outputs": [
    {
     "name": "stderr",
     "output_type": "stream",
     "text": [
      "C:\\Users\\RajChoul\\Anaconda3\\lib\\site-packages\\sklearn\\svm\\base.py:196: FutureWarning: The default value of gamma will change from 'auto' to 'scale' in version 0.22 to account better for unscaled features. Set gamma explicitly to 'auto' or 'scale' to avoid this warning.\n",
      "  \"avoid this warning.\", FutureWarning)\n"
     ]
    },
    {
     "name": "stdout",
     "output_type": "stream",
     "text": [
      "SVC trained on 4550 samples.\n"
     ]
    },
    {
     "name": "stderr",
     "output_type": "stream",
     "text": [
      "C:\\Users\\RajChoul\\Anaconda3\\lib\\site-packages\\sklearn\\ensemble\\forest.py:248: FutureWarning: The default value of n_estimators will change from 10 in version 0.20 to 100 in 0.22.\n",
      "  \"10 in version 0.20 to 100 in 0.22.\", FutureWarning)\n"
     ]
    },
    {
     "name": "stdout",
     "output_type": "stream",
     "text": [
      "RandomForestClassifier trained on 4550 samples.\n",
      "AdaBoostClassifier trained on 4550 samples.\n"
     ]
    },
    {
     "ename": "NameError",
     "evalue": "name 'accuracy' is not defined",
     "output_type": "error",
     "traceback": [
      "\u001b[1;31m---------------------------------------------------------------------------\u001b[0m",
      "\u001b[1;31mNameError\u001b[0m                                 Traceback (most recent call last)",
      "\u001b[1;32m<ipython-input-27-213e3508a783>\u001b[0m in \u001b[0;36m<module>\u001b[1;34m\u001b[0m\n\u001b[0;32m     21\u001b[0m \u001b[1;33m\u001b[0m\u001b[0m\n\u001b[0;32m     22\u001b[0m \u001b[1;31m# Run metrics visualization for the three supervised learning models chosen\u001b[0m\u001b[1;33m\u001b[0m\u001b[1;33m\u001b[0m\u001b[0m\n\u001b[1;32m---> 23\u001b[1;33m \u001b[0mvs\u001b[0m\u001b[1;33m.\u001b[0m\u001b[0mevaluate\u001b[0m\u001b[1;33m(\u001b[0m\u001b[0mresults\u001b[0m\u001b[1;33m,\u001b[0m \u001b[0maccuracy\u001b[0m\u001b[1;33m,\u001b[0m \u001b[0mfscore\u001b[0m\u001b[1;33m)\u001b[0m\u001b[1;33m\u001b[0m\u001b[0m\n\u001b[0m",
      "\u001b[1;31mNameError\u001b[0m: name 'accuracy' is not defined"
     ]
    }
   ],
   "source": [
    "#Run dataset through multiple algorithms to determine the most suitable among them.\n",
    "clf_A = SVC(random_state=58)\n",
    "clf_B = RandomForestClassifier(random_state=69)\n",
    "clf_C = AdaBoostClassifier(random_state=99)\n",
    "\n",
    "# TODO: Calculate the number of samples for 1%, 10%, and 100% of the training data\n",
    "# HINT: samples_100 is the entire training set i.e. len(y_train)\n",
    "# HINT: samples_10 is 10% of samples_100 (ensure to set the count of the values to be `int` and not `float`)\n",
    "# HINT: samples_1 is 1% of samples_100 (ensure to set the count of the values to be `int` and not `float`)\n",
    "samples_100 = len(X_train)*1\n",
    "samples_10 = int(len(X_train)*0.1)\n",
    "samples_1 = int(len(X_train)*0.01)\n",
    "\n",
    "# Collect results on the learners\n",
    "results = {}\n",
    "for clf in [clf_A, clf_B, clf_C]:\n",
    "    clf_name = clf.__class__.__name__\n",
    "    results[clf_name] = {}\n",
    "    for i, samples in enumerate([samples_1]):#, samples_10\n",
    "        results[clf_name][i] = \\\n",
    "        train_predict(clf, samples, X_train, y_train, X_test, y_test)"
   ]
  },
  {
   "cell_type": "code",
   "execution_count": 32,
   "metadata": {},
   "outputs": [
    {
     "name": "stdout",
     "output_type": "stream",
     "text": [
      "SVC\n",
      "\ttrain_time: 46.7256\n",
      "\tpred_time: 8764.9916\n",
      "\tf_train: 0.9600\n",
      "\tf_test: 0.0041\n",
      "RandomForestClassifier\n",
      "\ttrain_time: 9.2232\n",
      "\tpred_time: 27.7419\n",
      "\tf_train: 0.9967\n",
      "\tf_test: 0.2188\n",
      "AdaBoostClassifier\n",
      "\ttrain_time: 30.4512\n",
      "\tpred_time: 357.0798\n",
      "\tf_train: 0.0067\n",
      "\tf_test: 0.0070\n"
     ]
    }
   ],
   "source": [
    "#Print key metrics of the various algorithm after they've built the initial model to the most suitable algorithm.\n",
    "for key, val in results.items():\n",
    "    print(key)\n",
    "    for k,v in val.items():\n",
    "        for fet, score in v.items():\n",
    "            print('\\t{}: '.format(fet)+'{:.4f}'.format(score))"
   ]
  },
  {
   "cell_type": "code",
   "execution_count": 29,
   "metadata": {},
   "outputs": [],
   "source": [
    "#Classifier for best algorithm\n",
    "ABCclf = AdaBoostClassifier(random_state=2) # AdaBoost Classifier"
   ]
  },
  {
   "cell_type": "code",
   "execution_count": 30,
   "metadata": {},
   "outputs": [],
   "source": [
    "#Parameters for classifiers defined above\n",
    "ABCparam = {'n_estimators':[15,25],'learning_rate':[0.5,0.8,1]}"
   ]
  },
  {
   "cell_type": "code",
   "execution_count": 31,
   "metadata": {},
   "outputs": [],
   "source": [
    "def fit_model(classifier,param):\n",
    "    #Performance Metric\n",
    "    scorer = make_scorer(f1_score, average='micro')\n",
    "    \n",
    "    #Cross Validation Generator\n",
    "    cv_gen = ShuffleSplit(n_splits=5,test_size=0.2,random_state=0)\n",
    "    \n",
    "    #Build Grid Search CV\n",
    "    grid = GridSearchCV(classifier,param,scoring=scorer,cv=cv_gen)\n",
    "    grid = grid.fit(features_train,products_train)\n",
    "    best_score = grid.best_score_\n",
    "    best_estimator = grid.best_estimator_\n",
    "    best_parameters = grid.best_params_\n",
    "    return best_score, best_estimator, best_parameters"
   ]
  },
  {
   "cell_type": "code",
   "execution_count": 32,
   "metadata": {},
   "outputs": [
    {
     "data": {
      "text/plain": [
       "(0.010355133614627286,\n",
       " AdaBoostClassifier(algorithm='SAMME.R', base_estimator=None,\n",
       "           learning_rate=0.5, n_estimators=15, random_state=2),\n",
       " {'learning_rate': 0.5, 'n_estimators': 15})"
      ]
     },
     "execution_count": 32,
     "metadata": {},
     "output_type": "execute_result"
    }
   ],
   "source": [
    "#Fit the model and run through grid search to determine best parameters for algorithm\n",
    "fit_model(ABCclf,ABCparam)"
   ]
  },
  {
   "cell_type": "code",
   "execution_count": 33,
   "metadata": {},
   "outputs": [],
   "source": [
    "clf = AdaBoostClassifier(learning_rate=0.5,n_estimators=15,random_state=2)"
   ]
  },
  {
   "cell_type": "code",
   "execution_count": 34,
   "metadata": {},
   "outputs": [],
   "source": [
    "from sklearn.externals import joblib"
   ]
  },
  {
   "cell_type": "code",
   "execution_count": 39,
   "metadata": {},
   "outputs": [
    {
     "data": {
      "text/plain": [
       "['BestClassifier.joblib']"
      ]
     },
     "execution_count": 39,
     "metadata": {},
     "output_type": "execute_result"
    }
   ],
   "source": [
    "#Export the best algorithm so it can be retrieved without having to re-run the entire model above.\n",
    "joblib.dump(clf,'BestClassifier.joblib')"
   ]
  },
  {
   "cell_type": "code",
   "execution_count": 34,
   "metadata": {},
   "outputs": [
    {
     "data": {
      "text/plain": [
       "AdaBoostClassifier(algorithm='SAMME.R', base_estimator=None,\n",
       "          learning_rate=0.5, n_estimators=15, random_state=2)"
      ]
     },
     "execution_count": 34,
     "metadata": {},
     "output_type": "execute_result"
    }
   ],
   "source": [
    "#Fit the most suitable algorithm with best parameters among the list of those supplied\n",
    "clf.fit(features_train,products_train)"
   ]
  },
  {
   "cell_type": "code",
   "execution_count": 35,
   "metadata": {},
   "outputs": [],
   "source": [
    "#make prediction on the dataset the model had never seen before to test the quality of the model.\n",
    "test_prediction = clf.predict(features_test)"
   ]
  },
  {
   "cell_type": "code",
   "execution_count": 36,
   "metadata": {},
   "outputs": [],
   "source": [
    "# Calculate the F1 score of the model, the measure of the model quality.\n",
    "f1_test = f1_score(products_test,test_prediction,average='micro')"
   ]
  },
  {
   "cell_type": "code",
   "execution_count": 37,
   "metadata": {},
   "outputs": [
    {
     "name": "stdout",
     "output_type": "stream",
     "text": [
      "F1 score on test data: 0.015999220500828217\n"
     ]
    }
   ],
   "source": [
    "print('F1 score on test data: {}'.format(f1_test))"
   ]
  },
  {
   "cell_type": "markdown",
   "metadata": {},
   "source": [
    "### Plot Feature Importance"
   ]
  },
  {
   "cell_type": "code",
   "execution_count": 38,
   "metadata": {},
   "outputs": [],
   "source": [
    "# Plot the most important features in building the model above.\n",
    "feature_names = list(features_train.columns.values)"
   ]
  },
  {
   "cell_type": "code",
   "execution_count": 50,
   "metadata": {},
   "outputs": [],
   "source": [
    "importances = clf.feature_importances_"
   ]
  },
  {
   "cell_type": "code",
   "execution_count": 65,
   "metadata": {},
   "outputs": [],
   "source": [
    "indices = np.argsort(importances)[::-1]\n",
    "names = [feature_names[i] for i in indices]"
   ]
  },
  {
   "cell_type": "code",
   "execution_count": 66,
   "metadata": {},
   "outputs": [
    {
     "data": {
      "image/png": "[encoded data removed]",
      "text/plain": [
       "<Figure size 2880x720 with 1 Axes>"
      ]
     },
     "metadata": {
      "needs_background": "light"
     },
     "output_type": "display_data"
    }
   ],
   "source": [
    "plt.rcParams['figure.figsize']=(40,10)\n",
    "plt.title('Feature Importance')\n",
    "p=plt.bar(range(features_train.shape[1]),importances[indices])\n",
    "p=plt.xticks(range(features_train.shape[1]), names, rotation=90)"
   ]
  },
  {
   "cell_type": "markdown",
   "metadata": {},
   "source": [
    "### Plot Confusion Matrix"
   ]
  },
  {
   "cell_type": "code",
   "execution_count": null,
   "metadata": {},
   "outputs": [],
   "source": [
    "#plot the confusion matrix to provide a more visual representation of the classification performed by the model above.\n",
    "\n",
    "#Method 1 to plot the confusion matrix\n",
    "skplt.metrics.plot_confusion_matrix(products_test,test_prediction, normalize=True)\n",
    "plt.show()"
   ]
  },
  {
   "cell_type": "code",
   "execution_count": 39,
   "metadata": {},
   "outputs": [
    {
     "name": "stdout",
     "output_type": "stream",
     "text": [
      "[[0 0 0 ... 0 0 0]\n",
      " [0 0 0 ... 0 0 0]\n",
      " [0 0 0 ... 0 0 0]\n",
      " ...\n",
      " [0 0 0 ... 0 0 0]\n",
      " [0 0 0 ... 0 0 0]\n",
      " [0 0 0 ... 0 0 0]]\n"
     ]
    }
   ],
   "source": [
    "#Method 2 to plot the confusion matrix\n",
    "cm=confusion_matrix(products_test,test_prediction)\n",
    "print(cm)"
   ]
  },
  {
   "cell_type": "code",
   "execution_count": 47,
   "metadata": {},
   "outputs": [
    {
     "data": {
      "image/png": "[encoded data removed]",
      "text/plain": [
       "<Figure size 432x288 with 2 Axes>"
      ]
     },
     "metadata": {
      "needs_background": "light"
     },
     "output_type": "display_data"
    }
   ],
   "source": [
    "fig=plt.figure()\n",
    "ax=fig.add_subplot(111)\n",
    "cax = ax.matshow(cm)\n",
    "plt.title('Confusion matrix for test data predictions')\n",
    "fig.colorbar(cax)\n",
    "ax.set_xticklabels(products_test)\n",
    "ax.set_yticklabels(products_test)\n",
    "plt.xlabel('Prdicted')\n",
    "plt.xlabel('True')\n",
    "plt.xticks(rotation=90)\n",
    "plt.show()"
   ]
  },
  {
   "cell_type": "code",
   "execution_count": null,
   "metadata": {},
   "outputs": [],
   "source": [
    "#Method 3 to plot the confusion matrix\n",
    "def plot_confusion_matrix(cm,target_names,title='Confusion Matrix', cmap=None,normalize=True):\n",
    "    import itertools\n",
    "\n",
    "    accuracy = np.trace(cm) / float(np.sum(cm))\n",
    "    misclass = 1 - accuracy\n",
    "\n",
    "    if cmap is None:\n",
    "        cmap = plt.get_cmap('Blues')\n",
    "\n",
    "    plt.figure(figsize=(8, 6))\n",
    "    plt.imshow(cm, interpolation='nearest', cmap=cmap)\n",
    "    plt.title(title)\n",
    "    plt.colorbar()\n",
    "\n",
    "    if target_names is not None:\n",
    "        tick_marks = np.arange(len(target_names))\n",
    "        plt.xticks(tick_marks, target_names, rotation=45)\n",
    "        plt.yticks(tick_marks, target_names)\n",
    "\n",
    "    if normalize:\n",
    "        cm = cm.astype('float') / cm.sum(axis=1)[:, np.newaxis]\n",
    "\n",
    "\n",
    "    thresh = cm.max() / 1.5 if normalize else cm.max() / 2\n",
    "    for i, j in itertools.product(range(cm.shape[0]), range(cm.shape[1])):\n",
    "        if normalize:\n",
    "            plt.text(j, i, \"{:0.4f}\".format(cm[i, j]),\n",
    "                     horizontalalignment=\"center\",\n",
    "                     color=\"white\" if cm[i, j] > thresh else \"black\")\n",
    "        else:\n",
    "            plt.text(j, i, \"{:,}\".format(cm[i, j]),\n",
    "                     horizontalalignment=\"center\",\n",
    "                     color=\"white\" if cm[i, j] > thresh else \"black\")\n",
    "\n",
    "\n",
    "    plt.tight_layout()\n",
    "    plt.ylabel('True label')\n",
    "    plt.xlabel('Predicted label\\naccuracy={:0.4f}; misclass={:0.4f}'.format(accuracy, misclass))\n",
    "    plt.show()"
   ]
  },
  {
   "cell_type": "code",
   "execution_count": null,
   "metadata": {},
   "outputs": [],
   "source": [
    "plot_confusion_matrix(cm,normalize=False,target_names=products_train.unique(),title='Confusion Matrix')"
   ]
  },
  {
   "cell_type": "code",
   "execution_count": null,
   "metadata": {},
   "outputs": [],
   "source": []
  }
 ],
 "metadata": {
  "kernelspec": {
   "display_name": "Python 3",
   "language": "python",
   "name": "python3"
  },
  "language_info": {
   "codemirror_mode": {
    "name": "ipython",
    "version": 3
   },
   "file_extension": ".py",
   "mimetype": "text/x-python",
   "name": "python",
   "nbconvert_exporter": "python",
   "pygments_lexer": "ipython3",
   "version": "3.6.6"
  }
 },
 "nbformat": 4,
 "nbformat_minor": 2
}
