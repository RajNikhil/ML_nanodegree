{
 "cells": [
  {
   "cell_type": "markdown",
   "metadata": {},
   "source": [
    "## Combine Engineered Features for Prior Dataset"
   ]
  },
  {
   "cell_type": "code",
   "execution_count": 1,
   "metadata": {},
   "outputs": [],
   "source": [
    "import pandas as pd\n",
    "import numpy as np\n",
    "import gc"
   ]
  },
  {
   "cell_type": "code",
   "execution_count": 2,
   "metadata": {},
   "outputs": [],
   "source": [
    "df_allOrdDet = pd.read_pickle('input/all_order_details.p')"
   ]
  },
  {
   "cell_type": "code",
   "execution_count": 3,
   "metadata": {},
   "outputs": [],
   "source": [
    "df_allOrdDet = df_allOrdDet[['order_id','user_id','order_number','SucceedingOrdCnt','eval_set','order_dow',\n",
    "                             'order_hour_of_day']]"
   ]
  },
  {
   "cell_type": "code",
   "execution_count": 4,
   "metadata": {},
   "outputs": [
    {
     "data": {
      "text/plain": [
       "array(['prior', 'train', 'test'], dtype=object)"
      ]
     },
     "execution_count": 4,
     "metadata": {},
     "output_type": "execute_result"
    }
   ],
   "source": [
    "df_allOrdDet['eval_set'].unique()"
   ]
  },
  {
   "cell_type": "code",
   "execution_count": 5,
   "metadata": {},
   "outputs": [],
   "source": [
    "df_allOrdDet.sort_values(['user_id','order_number','order_id'],inplace=True)"
   ]
  },
  {
   "cell_type": "code",
   "execution_count": 6,
   "metadata": {},
   "outputs": [],
   "source": [
    "df_allOrdDet=df_allOrdDet.merge(pd.read_pickle('input/label.p')\n",
    "                                [['order_id','product_id','reordered']],on='order_id',how='inner')"
   ]
  },
  {
   "cell_type": "code",
   "execution_count": 7,
   "metadata": {},
   "outputs": [
    {
     "data": {
      "text/plain": [
       "array(['prior'], dtype=object)"
      ]
     },
     "execution_count": 7,
     "metadata": {},
     "output_type": "execute_result"
    }
   ],
   "source": [
    "df_allOrdDet['eval_set'].unique()"
   ]
  },
  {
   "cell_type": "code",
   "execution_count": 8,
   "metadata": {},
   "outputs": [],
   "source": [
    "df_allOrdDet=df_allOrdDet.merge(pd.read_pickle('input/product_detail.p')\n",
    "                                [['product_id','aisle_id','department_id']],on='product_id',how='left')"
   ]
  },
  {
   "cell_type": "code",
   "execution_count": 9,
   "metadata": {},
   "outputs": [
    {
     "data": {
      "text/html": [
       "<div>\n",
       "<style scoped>\n",
       "    .dataframe tbody tr th:only-of-type {\n",
       "        vertical-align: middle;\n",
       "    }\n",
       "\n",
       "    .dataframe tbody tr th {\n",
       "        vertical-align: top;\n",
       "    }\n",
       "\n",
       "    .dataframe thead th {\n",
       "        text-align: right;\n",
       "    }\n",
       "</style>\n",
       "<table border=\"1\" class=\"dataframe\">\n",
       "  <thead>\n",
       "    <tr style=\"text-align: right;\">\n",
       "      <th></th>\n",
       "      <th>order_id</th>\n",
       "      <th>user_id</th>\n",
       "      <th>order_number</th>\n",
       "      <th>SucceedingOrdCnt</th>\n",
       "      <th>eval_set</th>\n",
       "      <th>order_dow</th>\n",
       "      <th>order_hour_of_day</th>\n",
       "      <th>product_id</th>\n",
       "      <th>reordered</th>\n",
       "      <th>aisle_id</th>\n",
       "      <th>department_id</th>\n",
       "    </tr>\n",
       "  </thead>\n",
       "  <tbody>\n",
       "    <tr>\n",
       "      <th>0</th>\n",
       "      <td>2550362</td>\n",
       "      <td>1</td>\n",
       "      <td>10</td>\n",
       "      <td>1.0</td>\n",
       "      <td>prior</td>\n",
       "      <td>4</td>\n",
       "      <td>8</td>\n",
       "      <td>196</td>\n",
       "      <td>1</td>\n",
       "      <td>77</td>\n",
       "      <td>7</td>\n",
       "    </tr>\n",
       "    <tr>\n",
       "      <th>1</th>\n",
       "      <td>2550362</td>\n",
       "      <td>1</td>\n",
       "      <td>10</td>\n",
       "      <td>1.0</td>\n",
       "      <td>prior</td>\n",
       "      <td>4</td>\n",
       "      <td>8</td>\n",
       "      <td>10258</td>\n",
       "      <td>1</td>\n",
       "      <td>117</td>\n",
       "      <td>19</td>\n",
       "    </tr>\n",
       "    <tr>\n",
       "      <th>2</th>\n",
       "      <td>2550362</td>\n",
       "      <td>1</td>\n",
       "      <td>10</td>\n",
       "      <td>1.0</td>\n",
       "      <td>prior</td>\n",
       "      <td>4</td>\n",
       "      <td>8</td>\n",
       "      <td>10326</td>\n",
       "      <td>0</td>\n",
       "      <td>24</td>\n",
       "      <td>4</td>\n",
       "    </tr>\n",
       "    <tr>\n",
       "      <th>3</th>\n",
       "      <td>2550362</td>\n",
       "      <td>1</td>\n",
       "      <td>10</td>\n",
       "      <td>1.0</td>\n",
       "      <td>prior</td>\n",
       "      <td>4</td>\n",
       "      <td>8</td>\n",
       "      <td>12427</td>\n",
       "      <td>1</td>\n",
       "      <td>23</td>\n",
       "      <td>19</td>\n",
       "    </tr>\n",
       "    <tr>\n",
       "      <th>4</th>\n",
       "      <td>2550362</td>\n",
       "      <td>1</td>\n",
       "      <td>10</td>\n",
       "      <td>1.0</td>\n",
       "      <td>prior</td>\n",
       "      <td>4</td>\n",
       "      <td>8</td>\n",
       "      <td>13032</td>\n",
       "      <td>1</td>\n",
       "      <td>121</td>\n",
       "      <td>14</td>\n",
       "    </tr>\n",
       "  </tbody>\n",
       "</table>\n",
       "</div>"
      ],
      "text/plain": [
       "   order_id  user_id  order_number  SucceedingOrdCnt eval_set  order_dow  \\\n",
       "0   2550362        1            10               1.0    prior          4   \n",
       "1   2550362        1            10               1.0    prior          4   \n",
       "2   2550362        1            10               1.0    prior          4   \n",
       "3   2550362        1            10               1.0    prior          4   \n",
       "4   2550362        1            10               1.0    prior          4   \n",
       "\n",
       "   order_hour_of_day  product_id  reordered  aisle_id  department_id  \n",
       "0                  8         196          1        77              7  \n",
       "1                  8       10258          1       117             19  \n",
       "2                  8       10326          0        24              4  \n",
       "3                  8       12427          1        23             19  \n",
       "4                  8       13032          1       121             14  "
      ]
     },
     "execution_count": 9,
     "metadata": {},
     "output_type": "execute_result"
    }
   ],
   "source": [
    "df_allOrdDet.head()"
   ]
  },
  {
   "cell_type": "code",
   "execution_count": 10,
   "metadata": {},
   "outputs": [
    {
     "name": "stdout",
     "output_type": "stream",
     "text": [
      "<class 'pandas.core.frame.DataFrame'>\n",
      "Int64Index: 12084910 entries, 0 to 12084909\n",
      "Data columns (total 11 columns):\n",
      "order_id             int64\n",
      "user_id              int64\n",
      "order_number         int64\n",
      "SucceedingOrdCnt     float64\n",
      "eval_set             object\n",
      "order_dow            int64\n",
      "order_hour_of_day    int64\n",
      "product_id           int64\n",
      "reordered            int64\n",
      "aisle_id             int64\n",
      "department_id        int64\n",
      "dtypes: float64(1), int64(9), object(1)\n",
      "memory usage: 1.7 GB\n"
     ]
    }
   ],
   "source": [
    "df_allOrdDet.info(memory_usage='deep')"
   ]
  },
  {
   "cell_type": "code",
   "execution_count": 11,
   "metadata": {},
   "outputs": [
    {
     "data": {
      "text/html": [
       "<div>\n",
       "<style scoped>\n",
       "    .dataframe tbody tr th:only-of-type {\n",
       "        vertical-align: middle;\n",
       "    }\n",
       "\n",
       "    .dataframe tbody tr th {\n",
       "        vertical-align: top;\n",
       "    }\n",
       "\n",
       "    .dataframe thead th {\n",
       "        text-align: right;\n",
       "    }\n",
       "</style>\n",
       "<table border=\"1\" class=\"dataframe\">\n",
       "  <thead>\n",
       "    <tr style=\"text-align: right;\">\n",
       "      <th></th>\n",
       "      <th>order_id</th>\n",
       "      <th>user_id</th>\n",
       "      <th>order_number</th>\n",
       "      <th>SucceedingOrdCnt</th>\n",
       "      <th>order_dow</th>\n",
       "      <th>order_hour_of_day</th>\n",
       "      <th>product_id</th>\n",
       "      <th>reordered</th>\n",
       "      <th>aisle_id</th>\n",
       "      <th>department_id</th>\n",
       "    </tr>\n",
       "  </thead>\n",
       "  <tbody>\n",
       "    <tr>\n",
       "      <th>count</th>\n",
       "      <td>1.208491e+07</td>\n",
       "      <td>1.208491e+07</td>\n",
       "      <td>1.208491e+07</td>\n",
       "      <td>12084910.0</td>\n",
       "      <td>1.208491e+07</td>\n",
       "      <td>1.208491e+07</td>\n",
       "      <td>1.208491e+07</td>\n",
       "      <td>1.208491e+07</td>\n",
       "      <td>1.208491e+07</td>\n",
       "      <td>1.208491e+07</td>\n",
       "    </tr>\n",
       "    <tr>\n",
       "      <th>mean</th>\n",
       "      <td>1.717179e+06</td>\n",
       "      <td>1.029987e+05</td>\n",
       "      <td>2.645752e+01</td>\n",
       "      <td>1.0</td>\n",
       "      <td>2.747434e+00</td>\n",
       "      <td>1.352937e+01</td>\n",
       "      <td>2.551710e+04</td>\n",
       "      <td>1.017412e-01</td>\n",
       "      <td>7.101587e+01</td>\n",
       "      <td>1.021775e+01</td>\n",
       "    </tr>\n",
       "    <tr>\n",
       "      <th>std</th>\n",
       "      <td>9.884220e+05</td>\n",
       "      <td>5.943054e+04</td>\n",
       "      <td>2.256259e+01</td>\n",
       "      <td>0.0</td>\n",
       "      <td>2.072485e+00</td>\n",
       "      <td>4.225188e+00</td>\n",
       "      <td>1.422081e+04</td>\n",
       "      <td>3.023077e-01</td>\n",
       "      <td>3.807417e+01</td>\n",
       "      <td>6.209747e+00</td>\n",
       "    </tr>\n",
       "    <tr>\n",
       "      <th>min</th>\n",
       "      <td>1.600000e+01</td>\n",
       "      <td>1.000000e+00</td>\n",
       "      <td>2.000000e+00</td>\n",
       "      <td>1.0</td>\n",
       "      <td>0.000000e+00</td>\n",
       "      <td>0.000000e+00</td>\n",
       "      <td>1.000000e+00</td>\n",
       "      <td>0.000000e+00</td>\n",
       "      <td>1.000000e+00</td>\n",
       "      <td>1.000000e+00</td>\n",
       "    </tr>\n",
       "    <tr>\n",
       "      <th>25%</th>\n",
       "      <td>8.598920e+05</td>\n",
       "      <td>5.159000e+04</td>\n",
       "      <td>1.000000e+01</td>\n",
       "      <td>1.0</td>\n",
       "      <td>1.000000e+00</td>\n",
       "      <td>1.000000e+01</td>\n",
       "      <td>1.330900e+04</td>\n",
       "      <td>0.000000e+00</td>\n",
       "      <td>3.200000e+01</td>\n",
       "      <td>4.000000e+00</td>\n",
       "    </tr>\n",
       "    <tr>\n",
       "      <th>50%</th>\n",
       "      <td>1.720821e+06</td>\n",
       "      <td>1.026940e+05</td>\n",
       "      <td>1.900000e+01</td>\n",
       "      <td>1.0</td>\n",
       "      <td>3.000000e+00</td>\n",
       "      <td>1.400000e+01</td>\n",
       "      <td>2.563600e+04</td>\n",
       "      <td>0.000000e+00</td>\n",
       "      <td>8.100000e+01</td>\n",
       "      <td>1.100000e+01</td>\n",
       "    </tr>\n",
       "    <tr>\n",
       "      <th>75%</th>\n",
       "      <td>2.575344e+06</td>\n",
       "      <td>1.544290e+05</td>\n",
       "      <td>3.700000e+01</td>\n",
       "      <td>1.0</td>\n",
       "      <td>5.000000e+00</td>\n",
       "      <td>1.600000e+01</td>\n",
       "      <td>3.815900e+04</td>\n",
       "      <td>0.000000e+00</td>\n",
       "      <td>1.060000e+02</td>\n",
       "      <td>1.600000e+01</td>\n",
       "    </tr>\n",
       "    <tr>\n",
       "      <th>max</th>\n",
       "      <td>3.421073e+06</td>\n",
       "      <td>2.062090e+05</td>\n",
       "      <td>9.900000e+01</td>\n",
       "      <td>1.0</td>\n",
       "      <td>6.000000e+00</td>\n",
       "      <td>2.300000e+01</td>\n",
       "      <td>4.968800e+04</td>\n",
       "      <td>1.000000e+00</td>\n",
       "      <td>1.340000e+02</td>\n",
       "      <td>2.100000e+01</td>\n",
       "    </tr>\n",
       "  </tbody>\n",
       "</table>\n",
       "</div>"
      ],
      "text/plain": [
       "           order_id       user_id  order_number  SucceedingOrdCnt  \\\n",
       "count  1.208491e+07  1.208491e+07  1.208491e+07        12084910.0   \n",
       "mean   1.717179e+06  1.029987e+05  2.645752e+01               1.0   \n",
       "std    9.884220e+05  5.943054e+04  2.256259e+01               0.0   \n",
       "min    1.600000e+01  1.000000e+00  2.000000e+00               1.0   \n",
       "25%    8.598920e+05  5.159000e+04  1.000000e+01               1.0   \n",
       "50%    1.720821e+06  1.026940e+05  1.900000e+01               1.0   \n",
       "75%    2.575344e+06  1.544290e+05  3.700000e+01               1.0   \n",
       "max    3.421073e+06  2.062090e+05  9.900000e+01               1.0   \n",
       "\n",
       "          order_dow  order_hour_of_day    product_id     reordered  \\\n",
       "count  1.208491e+07       1.208491e+07  1.208491e+07  1.208491e+07   \n",
       "mean   2.747434e+00       1.352937e+01  2.551710e+04  1.017412e-01   \n",
       "std    2.072485e+00       4.225188e+00  1.422081e+04  3.023077e-01   \n",
       "min    0.000000e+00       0.000000e+00  1.000000e+00  0.000000e+00   \n",
       "25%    1.000000e+00       1.000000e+01  1.330900e+04  0.000000e+00   \n",
       "50%    3.000000e+00       1.400000e+01  2.563600e+04  0.000000e+00   \n",
       "75%    5.000000e+00       1.600000e+01  3.815900e+04  0.000000e+00   \n",
       "max    6.000000e+00       2.300000e+01  4.968800e+04  1.000000e+00   \n",
       "\n",
       "           aisle_id  department_id  \n",
       "count  1.208491e+07   1.208491e+07  \n",
       "mean   7.101587e+01   1.021775e+01  \n",
       "std    3.807417e+01   6.209747e+00  \n",
       "min    1.000000e+00   1.000000e+00  \n",
       "25%    3.200000e+01   4.000000e+00  \n",
       "50%    8.100000e+01   1.100000e+01  \n",
       "75%    1.060000e+02   1.600000e+01  \n",
       "max    1.340000e+02   2.100000e+01  "
      ]
     },
     "execution_count": 11,
     "metadata": {},
     "output_type": "execute_result"
    }
   ],
   "source": [
    "df_allOrdDet.describe()"
   ]
  },
  {
   "cell_type": "code",
   "execution_count": 12,
   "metadata": {},
   "outputs": [],
   "source": [
    "# Collect Order ids of succeeding 3 orders\n",
    "for i in range(1,4):\n",
    "    df_allOrdDet['t-{}_order_id'.format(i)] = df_allOrdDet.groupby('user_id')['order_id'].shift(i)"
   ]
  },
  {
   "cell_type": "code",
   "execution_count": 13,
   "metadata": {},
   "outputs": [
    {
     "data": {
      "text/plain": [
       "order_id                  0\n",
       "user_id                   0\n",
       "order_number              0\n",
       "SucceedingOrdCnt          0\n",
       "eval_set                  0\n",
       "order_dow                 0\n",
       "order_hour_of_day         0\n",
       "product_id                0\n",
       "reordered                 0\n",
       "aisle_id                  0\n",
       "department_id             0\n",
       "t-1_order_id         206209\n",
       "t-2_order_id         411299\n",
       "t-3_order_id         614574\n",
       "dtype: int64"
      ]
     },
     "execution_count": 13,
     "metadata": {},
     "output_type": "execute_result"
    }
   ],
   "source": [
    "df_allOrdDet.isnull().sum()"
   ]
  },
  {
   "cell_type": "code",
   "execution_count": 14,
   "metadata": {},
   "outputs": [],
   "source": [
    "df_allOrdDet.dropna(inplace=True)"
   ]
  },
  {
   "cell_type": "code",
   "execution_count": 15,
   "metadata": {},
   "outputs": [],
   "source": [
    "df_allOrdDet['SucceedingOrdCnt']=df_allOrdDet['SucceedingOrdCnt'].astype(int)"
   ]
  },
  {
   "cell_type": "code",
   "execution_count": 16,
   "metadata": {},
   "outputs": [],
   "source": [
    "col = [c for c in df_allOrdDet.columns if 'order_id' in c]\n",
    "for c in col:\n",
    "    df_allOrdDet[c] = df_allOrdDet[c].map(int)"
   ]
  },
  {
   "cell_type": "code",
   "execution_count": 17,
   "metadata": {},
   "outputs": [],
   "source": [
    "df_allOrdDet.reset_index(drop=1, inplace=True)"
   ]
  },
  {
   "cell_type": "code",
   "execution_count": 18,
   "metadata": {},
   "outputs": [],
   "source": [
    "#df_allOrdDet=df_allOrdDet.merge(pd.read_pickle('input/all_data.p')[['order_id','product_id','order_hour_of_day','order_dow']],on=['order_id','product_id'],how='left')"
   ]
  },
  {
   "cell_type": "code",
   "execution_count": 19,
   "metadata": {},
   "outputs": [
    {
     "data": {
      "text/html": [
       "<div>\n",
       "<style scoped>\n",
       "    .dataframe tbody tr th:only-of-type {\n",
       "        vertical-align: middle;\n",
       "    }\n",
       "\n",
       "    .dataframe tbody tr th {\n",
       "        vertical-align: top;\n",
       "    }\n",
       "\n",
       "    .dataframe thead th {\n",
       "        text-align: right;\n",
       "    }\n",
       "</style>\n",
       "<table border=\"1\" class=\"dataframe\">\n",
       "  <thead>\n",
       "    <tr style=\"text-align: right;\">\n",
       "      <th></th>\n",
       "      <th>order_id</th>\n",
       "      <th>user_id</th>\n",
       "      <th>order_number</th>\n",
       "      <th>SucceedingOrdCnt</th>\n",
       "      <th>eval_set</th>\n",
       "      <th>order_dow</th>\n",
       "      <th>order_hour_of_day</th>\n",
       "      <th>product_id</th>\n",
       "      <th>reordered</th>\n",
       "      <th>aisle_id</th>\n",
       "      <th>department_id</th>\n",
       "      <th>t-1_order_id</th>\n",
       "      <th>t-2_order_id</th>\n",
       "      <th>t-3_order_id</th>\n",
       "    </tr>\n",
       "  </thead>\n",
       "  <tbody>\n",
       "    <tr>\n",
       "      <th>0</th>\n",
       "      <td>2550362</td>\n",
       "      <td>1</td>\n",
       "      <td>10</td>\n",
       "      <td>1</td>\n",
       "      <td>prior</td>\n",
       "      <td>4</td>\n",
       "      <td>8</td>\n",
       "      <td>12427</td>\n",
       "      <td>1</td>\n",
       "      <td>23</td>\n",
       "      <td>19</td>\n",
       "      <td>2550362</td>\n",
       "      <td>2550362</td>\n",
       "      <td>2550362</td>\n",
       "    </tr>\n",
       "    <tr>\n",
       "      <th>1</th>\n",
       "      <td>2550362</td>\n",
       "      <td>1</td>\n",
       "      <td>10</td>\n",
       "      <td>1</td>\n",
       "      <td>prior</td>\n",
       "      <td>4</td>\n",
       "      <td>8</td>\n",
       "      <td>13032</td>\n",
       "      <td>1</td>\n",
       "      <td>121</td>\n",
       "      <td>14</td>\n",
       "      <td>2550362</td>\n",
       "      <td>2550362</td>\n",
       "      <td>2550362</td>\n",
       "    </tr>\n",
       "    <tr>\n",
       "      <th>2</th>\n",
       "      <td>2550362</td>\n",
       "      <td>1</td>\n",
       "      <td>10</td>\n",
       "      <td>1</td>\n",
       "      <td>prior</td>\n",
       "      <td>4</td>\n",
       "      <td>8</td>\n",
       "      <td>13176</td>\n",
       "      <td>0</td>\n",
       "      <td>24</td>\n",
       "      <td>4</td>\n",
       "      <td>2550362</td>\n",
       "      <td>2550362</td>\n",
       "      <td>2550362</td>\n",
       "    </tr>\n",
       "    <tr>\n",
       "      <th>3</th>\n",
       "      <td>2550362</td>\n",
       "      <td>1</td>\n",
       "      <td>10</td>\n",
       "      <td>1</td>\n",
       "      <td>prior</td>\n",
       "      <td>4</td>\n",
       "      <td>8</td>\n",
       "      <td>14084</td>\n",
       "      <td>0</td>\n",
       "      <td>91</td>\n",
       "      <td>16</td>\n",
       "      <td>2550362</td>\n",
       "      <td>2550362</td>\n",
       "      <td>2550362</td>\n",
       "    </tr>\n",
       "    <tr>\n",
       "      <th>4</th>\n",
       "      <td>2550362</td>\n",
       "      <td>1</td>\n",
       "      <td>10</td>\n",
       "      <td>1</td>\n",
       "      <td>prior</td>\n",
       "      <td>4</td>\n",
       "      <td>8</td>\n",
       "      <td>17122</td>\n",
       "      <td>0</td>\n",
       "      <td>24</td>\n",
       "      <td>4</td>\n",
       "      <td>2550362</td>\n",
       "      <td>2550362</td>\n",
       "      <td>2550362</td>\n",
       "    </tr>\n",
       "  </tbody>\n",
       "</table>\n",
       "</div>"
      ],
      "text/plain": [
       "   order_id  user_id  order_number  SucceedingOrdCnt eval_set  order_dow  \\\n",
       "0   2550362        1            10                 1    prior          4   \n",
       "1   2550362        1            10                 1    prior          4   \n",
       "2   2550362        1            10                 1    prior          4   \n",
       "3   2550362        1            10                 1    prior          4   \n",
       "4   2550362        1            10                 1    prior          4   \n",
       "\n",
       "   order_hour_of_day  product_id  reordered  aisle_id  department_id  \\\n",
       "0                  8       12427          1        23             19   \n",
       "1                  8       13032          1       121             14   \n",
       "2                  8       13176          0        24              4   \n",
       "3                  8       14084          0        91             16   \n",
       "4                  8       17122          0        24              4   \n",
       "\n",
       "   t-1_order_id  t-2_order_id  t-3_order_id  \n",
       "0       2550362       2550362       2550362  \n",
       "1       2550362       2550362       2550362  \n",
       "2       2550362       2550362       2550362  \n",
       "3       2550362       2550362       2550362  \n",
       "4       2550362       2550362       2550362  "
      ]
     },
     "execution_count": 19,
     "metadata": {},
     "output_type": "execute_result"
    }
   ],
   "source": [
    "df_allOrdDet.head()"
   ]
  },
  {
   "cell_type": "markdown",
   "metadata": {},
   "source": [
    "## Combining Engineered Features\n",
    "____________\n",
    "\n",
    "#### Combining User Behavior Features"
   ]
  },
  {
   "cell_type": "code",
   "execution_count": 20,
   "metadata": {},
   "outputs": [],
   "source": [
    "df_userBehavior = pd.read_pickle('input/userOrdSize.p')"
   ]
  },
  {
   "cell_type": "code",
   "execution_count": 21,
   "metadata": {},
   "outputs": [
    {
     "name": "stdout",
     "output_type": "stream",
     "text": [
      "<class 'pandas.core.frame.DataFrame'>\n",
      "RangeIndex: 206209 entries, 0 to 206208\n",
      "Data columns (total 6 columns):\n",
      "user_id                   206209 non-null int64\n",
      "user_order_size-min       206209 non-null int64\n",
      "user_order_size-max       206209 non-null int64\n",
      "user_order_size-median    206209 non-null float64\n",
      "user_order_size-mean      206209 non-null float64\n",
      "user_order_size-std       206209 non-null float64\n",
      "dtypes: float64(3), int64(3)\n",
      "memory usage: 9.4 MB\n"
     ]
    }
   ],
   "source": [
    "df_userBehavior.info(memory_usage='deep')"
   ]
  },
  {
   "cell_type": "code",
   "execution_count": 22,
   "metadata": {},
   "outputs": [
    {
     "name": "stdout",
     "output_type": "stream",
     "text": [
      "<class 'pandas.core.frame.DataFrame'>\n",
      "RangeIndex: 206209 entries, 0 to 206208\n",
      "Data columns (total 6 columns):\n",
      "user_id                   206209 non-null uint32\n",
      "user_order_size-min       206209 non-null uint8\n",
      "user_order_size-max       206209 non-null uint8\n",
      "user_order_size-median    206209 non-null float64\n",
      "user_order_size-mean      206209 non-null float64\n",
      "user_order_size-std       206209 non-null float64\n",
      "dtypes: float64(3), uint32(1), uint8(2)\n",
      "memory usage: 5.9 MB\n"
     ]
    }
   ],
   "source": [
    "#Downcast column datatypes to save memory\n",
    "df_userBehavior=df_userBehavior.apply(pd.to_numeric,downcast='unsigned')\n",
    "df_userBehavior.info(memory_usage='deep')"
   ]
  },
  {
   "cell_type": "code",
   "execution_count": 23,
   "metadata": {},
   "outputs": [
    {
     "data": {
      "text/html": [
       "<div>\n",
       "<style scoped>\n",
       "    .dataframe tbody tr th:only-of-type {\n",
       "        vertical-align: middle;\n",
       "    }\n",
       "\n",
       "    .dataframe tbody tr th {\n",
       "        vertical-align: top;\n",
       "    }\n",
       "\n",
       "    .dataframe thead th {\n",
       "        text-align: right;\n",
       "    }\n",
       "</style>\n",
       "<table border=\"1\" class=\"dataframe\">\n",
       "  <thead>\n",
       "    <tr style=\"text-align: right;\">\n",
       "      <th></th>\n",
       "      <th>user_id</th>\n",
       "      <th>user_order_size-min</th>\n",
       "      <th>user_order_size-max</th>\n",
       "      <th>user_order_size-median</th>\n",
       "      <th>user_order_size-mean</th>\n",
       "      <th>user_order_size-std</th>\n",
       "    </tr>\n",
       "  </thead>\n",
       "  <tbody>\n",
       "    <tr>\n",
       "      <th>0</th>\n",
       "      <td>1</td>\n",
       "      <td>4</td>\n",
       "      <td>9</td>\n",
       "      <td>5.5</td>\n",
       "      <td>5.900000</td>\n",
       "      <td>1.523884</td>\n",
       "    </tr>\n",
       "    <tr>\n",
       "      <th>1</th>\n",
       "      <td>2</td>\n",
       "      <td>5</td>\n",
       "      <td>26</td>\n",
       "      <td>13.5</td>\n",
       "      <td>13.928571</td>\n",
       "      <td>5.717238</td>\n",
       "    </tr>\n",
       "    <tr>\n",
       "      <th>2</th>\n",
       "      <td>3</td>\n",
       "      <td>5</td>\n",
       "      <td>11</td>\n",
       "      <td>8.0</td>\n",
       "      <td>7.454545</td>\n",
       "      <td>2.161649</td>\n",
       "    </tr>\n",
       "    <tr>\n",
       "      <th>3</th>\n",
       "      <td>4</td>\n",
       "      <td>2</td>\n",
       "      <td>7</td>\n",
       "      <td>3.0</td>\n",
       "      <td>3.750000</td>\n",
       "      <td>2.362908</td>\n",
       "    </tr>\n",
       "    <tr>\n",
       "      <th>4</th>\n",
       "      <td>5</td>\n",
       "      <td>5</td>\n",
       "      <td>12</td>\n",
       "      <td>10.0</td>\n",
       "      <td>9.250000</td>\n",
       "      <td>3.095696</td>\n",
       "    </tr>\n",
       "  </tbody>\n",
       "</table>\n",
       "</div>"
      ],
      "text/plain": [
       "   user_id  user_order_size-min  user_order_size-max  user_order_size-median  \\\n",
       "0        1                    4                    9                     5.5   \n",
       "1        2                    5                   26                    13.5   \n",
       "2        3                    5                   11                     8.0   \n",
       "3        4                    2                    7                     3.0   \n",
       "4        5                    5                   12                    10.0   \n",
       "\n",
       "   user_order_size-mean  user_order_size-std  \n",
       "0              5.900000             1.523884  \n",
       "1             13.928571             5.717238  \n",
       "2              7.454545             2.161649  \n",
       "3              3.750000             2.362908  \n",
       "4              9.250000             3.095696  "
      ]
     },
     "execution_count": 23,
     "metadata": {},
     "output_type": "execute_result"
    }
   ],
   "source": [
    "df_userBehavior.head()"
   ]
  },
  {
   "cell_type": "code",
   "execution_count": 24,
   "metadata": {},
   "outputs": [],
   "source": [
    "df_allOrdDet = df_allOrdDet.merge(df_userBehavior, on='user_id',how='left')"
   ]
  },
  {
   "cell_type": "code",
   "execution_count": 25,
   "metadata": {},
   "outputs": [
    {
     "data": {
      "text/html": [
       "<div>\n",
       "<style scoped>\n",
       "    .dataframe tbody tr th:only-of-type {\n",
       "        vertical-align: middle;\n",
       "    }\n",
       "\n",
       "    .dataframe tbody tr th {\n",
       "        vertical-align: top;\n",
       "    }\n",
       "\n",
       "    .dataframe thead th {\n",
       "        text-align: right;\n",
       "    }\n",
       "</style>\n",
       "<table border=\"1\" class=\"dataframe\">\n",
       "  <thead>\n",
       "    <tr style=\"text-align: right;\">\n",
       "      <th></th>\n",
       "      <th>order_id</th>\n",
       "      <th>user_id</th>\n",
       "      <th>order_number</th>\n",
       "      <th>SucceedingOrdCnt</th>\n",
       "      <th>eval_set</th>\n",
       "      <th>order_dow</th>\n",
       "      <th>order_hour_of_day</th>\n",
       "      <th>product_id</th>\n",
       "      <th>reordered</th>\n",
       "      <th>aisle_id</th>\n",
       "      <th>department_id</th>\n",
       "      <th>t-1_order_id</th>\n",
       "      <th>t-2_order_id</th>\n",
       "      <th>t-3_order_id</th>\n",
       "      <th>user_order_size-min</th>\n",
       "      <th>user_order_size-max</th>\n",
       "      <th>user_order_size-median</th>\n",
       "      <th>user_order_size-mean</th>\n",
       "      <th>user_order_size-std</th>\n",
       "    </tr>\n",
       "  </thead>\n",
       "  <tbody>\n",
       "    <tr>\n",
       "      <th>0</th>\n",
       "      <td>2550362</td>\n",
       "      <td>1</td>\n",
       "      <td>10</td>\n",
       "      <td>1</td>\n",
       "      <td>prior</td>\n",
       "      <td>4</td>\n",
       "      <td>8</td>\n",
       "      <td>12427</td>\n",
       "      <td>1</td>\n",
       "      <td>23</td>\n",
       "      <td>19</td>\n",
       "      <td>2550362</td>\n",
       "      <td>2550362</td>\n",
       "      <td>2550362</td>\n",
       "      <td>4</td>\n",
       "      <td>9</td>\n",
       "      <td>5.5</td>\n",
       "      <td>5.9</td>\n",
       "      <td>1.523884</td>\n",
       "    </tr>\n",
       "    <tr>\n",
       "      <th>1</th>\n",
       "      <td>2550362</td>\n",
       "      <td>1</td>\n",
       "      <td>10</td>\n",
       "      <td>1</td>\n",
       "      <td>prior</td>\n",
       "      <td>4</td>\n",
       "      <td>8</td>\n",
       "      <td>13032</td>\n",
       "      <td>1</td>\n",
       "      <td>121</td>\n",
       "      <td>14</td>\n",
       "      <td>2550362</td>\n",
       "      <td>2550362</td>\n",
       "      <td>2550362</td>\n",
       "      <td>4</td>\n",
       "      <td>9</td>\n",
       "      <td>5.5</td>\n",
       "      <td>5.9</td>\n",
       "      <td>1.523884</td>\n",
       "    </tr>\n",
       "    <tr>\n",
       "      <th>2</th>\n",
       "      <td>2550362</td>\n",
       "      <td>1</td>\n",
       "      <td>10</td>\n",
       "      <td>1</td>\n",
       "      <td>prior</td>\n",
       "      <td>4</td>\n",
       "      <td>8</td>\n",
       "      <td>13176</td>\n",
       "      <td>0</td>\n",
       "      <td>24</td>\n",
       "      <td>4</td>\n",
       "      <td>2550362</td>\n",
       "      <td>2550362</td>\n",
       "      <td>2550362</td>\n",
       "      <td>4</td>\n",
       "      <td>9</td>\n",
       "      <td>5.5</td>\n",
       "      <td>5.9</td>\n",
       "      <td>1.523884</td>\n",
       "    </tr>\n",
       "    <tr>\n",
       "      <th>3</th>\n",
       "      <td>2550362</td>\n",
       "      <td>1</td>\n",
       "      <td>10</td>\n",
       "      <td>1</td>\n",
       "      <td>prior</td>\n",
       "      <td>4</td>\n",
       "      <td>8</td>\n",
       "      <td>14084</td>\n",
       "      <td>0</td>\n",
       "      <td>91</td>\n",
       "      <td>16</td>\n",
       "      <td>2550362</td>\n",
       "      <td>2550362</td>\n",
       "      <td>2550362</td>\n",
       "      <td>4</td>\n",
       "      <td>9</td>\n",
       "      <td>5.5</td>\n",
       "      <td>5.9</td>\n",
       "      <td>1.523884</td>\n",
       "    </tr>\n",
       "    <tr>\n",
       "      <th>4</th>\n",
       "      <td>2550362</td>\n",
       "      <td>1</td>\n",
       "      <td>10</td>\n",
       "      <td>1</td>\n",
       "      <td>prior</td>\n",
       "      <td>4</td>\n",
       "      <td>8</td>\n",
       "      <td>17122</td>\n",
       "      <td>0</td>\n",
       "      <td>24</td>\n",
       "      <td>4</td>\n",
       "      <td>2550362</td>\n",
       "      <td>2550362</td>\n",
       "      <td>2550362</td>\n",
       "      <td>4</td>\n",
       "      <td>9</td>\n",
       "      <td>5.5</td>\n",
       "      <td>5.9</td>\n",
       "      <td>1.523884</td>\n",
       "    </tr>\n",
       "  </tbody>\n",
       "</table>\n",
       "</div>"
      ],
      "text/plain": [
       "   order_id  user_id  order_number  SucceedingOrdCnt eval_set  order_dow  \\\n",
       "0   2550362        1            10                 1    prior          4   \n",
       "1   2550362        1            10                 1    prior          4   \n",
       "2   2550362        1            10                 1    prior          4   \n",
       "3   2550362        1            10                 1    prior          4   \n",
       "4   2550362        1            10                 1    prior          4   \n",
       "\n",
       "   order_hour_of_day  product_id  reordered  aisle_id  department_id  \\\n",
       "0                  8       12427          1        23             19   \n",
       "1                  8       13032          1       121             14   \n",
       "2                  8       13176          0        24              4   \n",
       "3                  8       14084          0        91             16   \n",
       "4                  8       17122          0        24              4   \n",
       "\n",
       "   t-1_order_id  t-2_order_id  t-3_order_id  user_order_size-min  \\\n",
       "0       2550362       2550362       2550362                    4   \n",
       "1       2550362       2550362       2550362                    4   \n",
       "2       2550362       2550362       2550362                    4   \n",
       "3       2550362       2550362       2550362                    4   \n",
       "4       2550362       2550362       2550362                    4   \n",
       "\n",
       "   user_order_size-max  user_order_size-median  user_order_size-mean  \\\n",
       "0                    9                     5.5                   5.9   \n",
       "1                    9                     5.5                   5.9   \n",
       "2                    9                     5.5                   5.9   \n",
       "3                    9                     5.5                   5.9   \n",
       "4                    9                     5.5                   5.9   \n",
       "\n",
       "   user_order_size-std  \n",
       "0             1.523884  \n",
       "1             1.523884  \n",
       "2             1.523884  \n",
       "3             1.523884  \n",
       "4             1.523884  "
      ]
     },
     "execution_count": 25,
     "metadata": {},
     "output_type": "execute_result"
    }
   ],
   "source": [
    "df_allOrdDet.head()"
   ]
  },
  {
   "cell_type": "markdown",
   "metadata": {},
   "source": [
    "#### Combining Item Characteristics Features"
   ]
  },
  {
   "cell_type": "code",
   "execution_count": 26,
   "metadata": {},
   "outputs": [
    {
     "data": {
      "text/html": [
       "<div>\n",
       "<style scoped>\n",
       "    .dataframe tbody tr th:only-of-type {\n",
       "        vertical-align: middle;\n",
       "    }\n",
       "\n",
       "    .dataframe tbody tr th {\n",
       "        vertical-align: top;\n",
       "    }\n",
       "\n",
       "    .dataframe thead th {\n",
       "        text-align: right;\n",
       "    }\n",
       "</style>\n",
       "<table border=\"1\" class=\"dataframe\">\n",
       "  <thead>\n",
       "    <tr style=\"text-align: right;\">\n",
       "      <th></th>\n",
       "      <th>product_id</th>\n",
       "      <th>order_hour_of_day</th>\n",
       "      <th>item_hour_cnt</th>\n",
       "      <th>itemHrDist</th>\n",
       "    </tr>\n",
       "  </thead>\n",
       "  <tbody>\n",
       "    <tr>\n",
       "      <th>0</th>\n",
       "      <td>1</td>\n",
       "      <td>0</td>\n",
       "      <td>12</td>\n",
       "      <td>0.006224</td>\n",
       "    </tr>\n",
       "    <tr>\n",
       "      <th>1</th>\n",
       "      <td>1</td>\n",
       "      <td>1</td>\n",
       "      <td>12</td>\n",
       "      <td>0.006224</td>\n",
       "    </tr>\n",
       "    <tr>\n",
       "      <th>2</th>\n",
       "      <td>1</td>\n",
       "      <td>2</td>\n",
       "      <td>9</td>\n",
       "      <td>0.004668</td>\n",
       "    </tr>\n",
       "    <tr>\n",
       "      <th>3</th>\n",
       "      <td>1</td>\n",
       "      <td>3</td>\n",
       "      <td>5</td>\n",
       "      <td>0.002593</td>\n",
       "    </tr>\n",
       "    <tr>\n",
       "      <th>4</th>\n",
       "      <td>1</td>\n",
       "      <td>4</td>\n",
       "      <td>4</td>\n",
       "      <td>0.002075</td>\n",
       "    </tr>\n",
       "  </tbody>\n",
       "</table>\n",
       "</div>"
      ],
      "text/plain": [
       "   product_id  order_hour_of_day  item_hour_cnt  itemHrDist\n",
       "0           1                  0             12    0.006224\n",
       "1           1                  1             12    0.006224\n",
       "2           1                  2              9    0.004668\n",
       "3           1                  3              5    0.002593\n",
       "4           1                  4              4    0.002075"
      ]
     },
     "execution_count": 26,
     "metadata": {},
     "output_type": "execute_result"
    }
   ],
   "source": [
    "df_itemChar = pd.read_pickle('input/hrGrp.p')\n",
    "df_itemChar.head()"
   ]
  },
  {
   "cell_type": "code",
   "execution_count": 27,
   "metadata": {},
   "outputs": [
    {
     "data": {
      "text/html": [
       "<div>\n",
       "<style scoped>\n",
       "    .dataframe tbody tr th:only-of-type {\n",
       "        vertical-align: middle;\n",
       "    }\n",
       "\n",
       "    .dataframe tbody tr th {\n",
       "        vertical-align: top;\n",
       "    }\n",
       "\n",
       "    .dataframe thead th {\n",
       "        text-align: right;\n",
       "    }\n",
       "</style>\n",
       "<table border=\"1\" class=\"dataframe\">\n",
       "  <thead>\n",
       "    <tr style=\"text-align: right;\">\n",
       "      <th></th>\n",
       "      <th>product_id</th>\n",
       "      <th>order_hour_of_day</th>\n",
       "      <th>unique_item_hour_cnt</th>\n",
       "      <th>unqItemHrDist</th>\n",
       "    </tr>\n",
       "  </thead>\n",
       "  <tbody>\n",
       "    <tr>\n",
       "      <th>0</th>\n",
       "      <td>1</td>\n",
       "      <td>0</td>\n",
       "      <td>11</td>\n",
       "      <td>0.007412</td>\n",
       "    </tr>\n",
       "    <tr>\n",
       "      <th>1</th>\n",
       "      <td>1</td>\n",
       "      <td>1</td>\n",
       "      <td>10</td>\n",
       "      <td>0.006739</td>\n",
       "    </tr>\n",
       "    <tr>\n",
       "      <th>2</th>\n",
       "      <td>1</td>\n",
       "      <td>2</td>\n",
       "      <td>9</td>\n",
       "      <td>0.006065</td>\n",
       "    </tr>\n",
       "    <tr>\n",
       "      <th>3</th>\n",
       "      <td>1</td>\n",
       "      <td>3</td>\n",
       "      <td>5</td>\n",
       "      <td>0.003369</td>\n",
       "    </tr>\n",
       "    <tr>\n",
       "      <th>4</th>\n",
       "      <td>1</td>\n",
       "      <td>4</td>\n",
       "      <td>3</td>\n",
       "      <td>0.002022</td>\n",
       "    </tr>\n",
       "  </tbody>\n",
       "</table>\n",
       "</div>"
      ],
      "text/plain": [
       "   product_id  order_hour_of_day  unique_item_hour_cnt  unqItemHrDist\n",
       "0           1                  0                    11       0.007412\n",
       "1           1                  1                    10       0.006739\n",
       "2           1                  2                     9       0.006065\n",
       "3           1                  3                     5       0.003369\n",
       "4           1                  4                     3       0.002022"
      ]
     },
     "execution_count": 27,
     "metadata": {},
     "output_type": "execute_result"
    }
   ],
   "source": [
    "pd.read_pickle('input/hrGrpUnq.p').head()"
   ]
  },
  {
   "cell_type": "code",
   "execution_count": 28,
   "metadata": {},
   "outputs": [],
   "source": [
    "df_itemChar = df_itemChar.merge(pd.read_pickle('input/hrGrpUnq.p'),on=['product_id','order_hour_of_day'],how='left')"
   ]
  },
  {
   "cell_type": "code",
   "execution_count": 29,
   "metadata": {},
   "outputs": [
    {
     "name": "stdout",
     "output_type": "stream",
     "text": [
      "<class 'pandas.core.frame.DataFrame'>\n",
      "Int64Index: 777214 entries, 0 to 777213\n",
      "Data columns (total 6 columns):\n",
      "product_id              777214 non-null uint16\n",
      "order_hour_of_day       777214 non-null uint8\n",
      "item_hour_cnt           777214 non-null uint16\n",
      "itemHrDist              777214 non-null float64\n",
      "unique_item_hour_cnt    777214 non-null uint16\n",
      "unqItemHrDist           777214 non-null float64\n",
      "dtypes: float64(2), uint16(3), uint8(1)\n",
      "memory usage: 23.0 MB\n"
     ]
    }
   ],
   "source": [
    "df_itemChar=df_itemChar.apply(pd.to_numeric,downcast='unsigned')\n",
    "df_itemChar.info(memory_usage='deep')"
   ]
  },
  {
   "cell_type": "code",
   "execution_count": 30,
   "metadata": {},
   "outputs": [],
   "source": [
    "df_allOrdDet = df_allOrdDet.merge(df_itemChar,on=['product_id','order_hour_of_day'],how='left')"
   ]
  },
  {
   "cell_type": "code",
   "execution_count": 31,
   "metadata": {},
   "outputs": [],
   "source": [
    "df_itemChar2 = pd.read_pickle('input/dowGrp.p')"
   ]
  },
  {
   "cell_type": "code",
   "execution_count": 32,
   "metadata": {},
   "outputs": [],
   "source": [
    "df_itemChar2 = df_itemChar2.merge(pd.read_pickle('input/unqDowGrp.p'),on=['product_id','order_dow'],how='left')"
   ]
  },
  {
   "cell_type": "code",
   "execution_count": 33,
   "metadata": {},
   "outputs": [
    {
     "name": "stdout",
     "output_type": "stream",
     "text": [
      "<class 'pandas.core.frame.DataFrame'>\n",
      "Int64Index: 319956 entries, 0 to 319955\n",
      "Data columns (total 6 columns):\n",
      "product_id             319956 non-null uint16\n",
      "order_dow              319956 non-null uint8\n",
      "item_dow_cnt           319956 non-null uint32\n",
      "itemDowDist            319956 non-null float64\n",
      "unique_item_dow_cnt    319956 non-null uint16\n",
      "unqItemDowDist         319956 non-null float64\n",
      "dtypes: float64(2), uint16(2), uint32(1), uint8(1)\n",
      "memory usage: 10.1 MB\n"
     ]
    }
   ],
   "source": [
    "df_itemChar2=df_itemChar2.apply(pd.to_numeric,downcast='unsigned')\n",
    "df_itemChar2.info(memory_usage='deep')"
   ]
  },
  {
   "cell_type": "code",
   "execution_count": 34,
   "metadata": {},
   "outputs": [],
   "source": [
    "df_allOrdDet = df_allOrdDet.merge(df_itemChar2,on=['product_id','order_dow'],how='left')"
   ]
  },
  {
   "cell_type": "code",
   "execution_count": 35,
   "metadata": {},
   "outputs": [],
   "source": [
    "df_allOrdDet = df_allOrdDet.merge(pd.read_pickle('input/prodComb.p'),on=['product_id'],how='left')"
   ]
  },
  {
   "cell_type": "code",
   "execution_count": 36,
   "metadata": {
    "scrolled": true
   },
   "outputs": [
    {
     "name": "stdout",
     "output_type": "stream",
     "text": [
      "<class 'pandas.core.frame.DataFrame'>\n",
      "Int64Index: 11470336 entries, 0 to 11470335\n",
      "Data columns (total 31 columns):\n",
      "order_id                  int64\n",
      "user_id                   int64\n",
      "order_number              int64\n",
      "SucceedingOrdCnt          int32\n",
      "eval_set                  object\n",
      "order_dow                 int64\n",
      "order_hour_of_day         int64\n",
      "product_id                int64\n",
      "reordered                 int64\n",
      "aisle_id                  int64\n",
      "department_id             int64\n",
      "t-1_order_id              int64\n",
      "t-2_order_id              int64\n",
      "t-3_order_id              int64\n",
      "user_order_size-min       uint8\n",
      "user_order_size-max       uint8\n",
      "user_order_size-median    float64\n",
      "user_order_size-mean      float64\n",
      "user_order_size-std       float64\n",
      "item_hour_cnt             float64\n",
      "itemHrDist                float64\n",
      "unique_item_hour_cnt      float64\n",
      "unqItemHrDist             float64\n",
      "item_dow_cnt              float64\n",
      "itemDowDist               float64\n",
      "unique_item_dow_cnt       float64\n",
      "unqItemDowDist            float64\n",
      "prodComb_mean             float64\n",
      "prodComb_min              int64\n",
      "prodComb_max              int64\n",
      "prodComb_std              float64\n",
      "dtypes: float64(13), int32(1), int64(14), object(1), uint8(2)\n",
      "memory usage: 3.1 GB\n"
     ]
    }
   ],
   "source": [
    "df_allOrdDet.info(memory_usage='deep')"
   ]
  },
  {
   "cell_type": "code",
   "execution_count": 37,
   "metadata": {},
   "outputs": [
    {
     "data": {
      "text/html": [
       "<div>\n",
       "<style scoped>\n",
       "    .dataframe tbody tr th:only-of-type {\n",
       "        vertical-align: middle;\n",
       "    }\n",
       "\n",
       "    .dataframe tbody tr th {\n",
       "        vertical-align: top;\n",
       "    }\n",
       "\n",
       "    .dataframe thead th {\n",
       "        text-align: right;\n",
       "    }\n",
       "</style>\n",
       "<table border=\"1\" class=\"dataframe\">\n",
       "  <thead>\n",
       "    <tr style=\"text-align: right;\">\n",
       "      <th></th>\n",
       "      <th>order_id</th>\n",
       "      <th>user_id</th>\n",
       "      <th>order_number</th>\n",
       "      <th>SucceedingOrdCnt</th>\n",
       "      <th>eval_set</th>\n",
       "      <th>order_dow</th>\n",
       "      <th>order_hour_of_day</th>\n",
       "      <th>product_id</th>\n",
       "      <th>reordered</th>\n",
       "      <th>aisle_id</th>\n",
       "      <th>...</th>\n",
       "      <th>unique_item_hour_cnt</th>\n",
       "      <th>unqItemHrDist</th>\n",
       "      <th>item_dow_cnt</th>\n",
       "      <th>itemDowDist</th>\n",
       "      <th>unique_item_dow_cnt</th>\n",
       "      <th>unqItemDowDist</th>\n",
       "      <th>prodComb_mean</th>\n",
       "      <th>prodComb_min</th>\n",
       "      <th>prodComb_max</th>\n",
       "      <th>prodComb_std</th>\n",
       "    </tr>\n",
       "  </thead>\n",
       "  <tbody>\n",
       "    <tr>\n",
       "      <th>0</th>\n",
       "      <td>2550362</td>\n",
       "      <td>1</td>\n",
       "      <td>10</td>\n",
       "      <td>1</td>\n",
       "      <td>prior</td>\n",
       "      <td>4</td>\n",
       "      <td>8</td>\n",
       "      <td>12427</td>\n",
       "      <td>1</td>\n",
       "      <td>23</td>\n",
       "      <td>...</td>\n",
       "      <td>234.0</td>\n",
       "      <td>0.053843</td>\n",
       "      <td>872.0</td>\n",
       "      <td>0.130208</td>\n",
       "      <td>510.0</td>\n",
       "      <td>0.146805</td>\n",
       "      <td>8.634077</td>\n",
       "      <td>1</td>\n",
       "      <td>62</td>\n",
       "      <td>6.988220</td>\n",
       "    </tr>\n",
       "    <tr>\n",
       "      <th>1</th>\n",
       "      <td>2550362</td>\n",
       "      <td>1</td>\n",
       "      <td>10</td>\n",
       "      <td>1</td>\n",
       "      <td>prior</td>\n",
       "      <td>4</td>\n",
       "      <td>8</td>\n",
       "      <td>13032</td>\n",
       "      <td>1</td>\n",
       "      <td>121</td>\n",
       "      <td>...</td>\n",
       "      <td>187.0</td>\n",
       "      <td>0.063888</td>\n",
       "      <td>556.0</td>\n",
       "      <td>0.142418</td>\n",
       "      <td>352.0</td>\n",
       "      <td>0.143673</td>\n",
       "      <td>9.492694</td>\n",
       "      <td>1</td>\n",
       "      <td>100</td>\n",
       "      <td>7.732432</td>\n",
       "    </tr>\n",
       "    <tr>\n",
       "      <th>2</th>\n",
       "      <td>2550362</td>\n",
       "      <td>1</td>\n",
       "      <td>10</td>\n",
       "      <td>1</td>\n",
       "      <td>prior</td>\n",
       "      <td>4</td>\n",
       "      <td>8</td>\n",
       "      <td>13176</td>\n",
       "      <td>0</td>\n",
       "      <td>24</td>\n",
       "      <td>...</td>\n",
       "      <td>13480.0</td>\n",
       "      <td>0.054178</td>\n",
       "      <td>46358.0</td>\n",
       "      <td>0.117383</td>\n",
       "      <td>24169.0</td>\n",
       "      <td>0.129753</td>\n",
       "      <td>13.651778</td>\n",
       "      <td>1</td>\n",
       "      <td>145</td>\n",
       "      <td>8.621557</td>\n",
       "    </tr>\n",
       "    <tr>\n",
       "      <th>3</th>\n",
       "      <td>2550362</td>\n",
       "      <td>1</td>\n",
       "      <td>10</td>\n",
       "      <td>1</td>\n",
       "      <td>prior</td>\n",
       "      <td>4</td>\n",
       "      <td>8</td>\n",
       "      <td>14084</td>\n",
       "      <td>0</td>\n",
       "      <td>91</td>\n",
       "      <td>...</td>\n",
       "      <td>557.0</td>\n",
       "      <td>0.052448</td>\n",
       "      <td>1932.0</td>\n",
       "      <td>0.117240</td>\n",
       "      <td>998.0</td>\n",
       "      <td>0.126042</td>\n",
       "      <td>13.867454</td>\n",
       "      <td>1</td>\n",
       "      <td>91</td>\n",
       "      <td>8.472359</td>\n",
       "    </tr>\n",
       "    <tr>\n",
       "      <th>4</th>\n",
       "      <td>2550362</td>\n",
       "      <td>1</td>\n",
       "      <td>10</td>\n",
       "      <td>1</td>\n",
       "      <td>prior</td>\n",
       "      <td>4</td>\n",
       "      <td>8</td>\n",
       "      <td>17122</td>\n",
       "      <td>0</td>\n",
       "      <td>24</td>\n",
       "      <td>...</td>\n",
       "      <td>685.0</td>\n",
       "      <td>0.062437</td>\n",
       "      <td>1744.0</td>\n",
       "      <td>0.119863</td>\n",
       "      <td>1204.0</td>\n",
       "      <td>0.131255</td>\n",
       "      <td>11.989662</td>\n",
       "      <td>1</td>\n",
       "      <td>70</td>\n",
       "      <td>8.941500</td>\n",
       "    </tr>\n",
       "  </tbody>\n",
       "</table>\n",
       "<p>5 rows × 31 columns</p>\n",
       "</div>"
      ],
      "text/plain": [
       "   order_id  user_id  order_number  SucceedingOrdCnt eval_set  order_dow  \\\n",
       "0   2550362        1            10                 1    prior          4   \n",
       "1   2550362        1            10                 1    prior          4   \n",
       "2   2550362        1            10                 1    prior          4   \n",
       "3   2550362        1            10                 1    prior          4   \n",
       "4   2550362        1            10                 1    prior          4   \n",
       "\n",
       "   order_hour_of_day  product_id  reordered  aisle_id      ...       \\\n",
       "0                  8       12427          1        23      ...        \n",
       "1                  8       13032          1       121      ...        \n",
       "2                  8       13176          0        24      ...        \n",
       "3                  8       14084          0        91      ...        \n",
       "4                  8       17122          0        24      ...        \n",
       "\n",
       "   unique_item_hour_cnt  unqItemHrDist  item_dow_cnt  itemDowDist  \\\n",
       "0                 234.0       0.053843         872.0     0.130208   \n",
       "1                 187.0       0.063888         556.0     0.142418   \n",
       "2               13480.0       0.054178       46358.0     0.117383   \n",
       "3                 557.0       0.052448        1932.0     0.117240   \n",
       "4                 685.0       0.062437        1744.0     0.119863   \n",
       "\n",
       "   unique_item_dow_cnt  unqItemDowDist  prodComb_mean  prodComb_min  \\\n",
       "0                510.0        0.146805       8.634077             1   \n",
       "1                352.0        0.143673       9.492694             1   \n",
       "2              24169.0        0.129753      13.651778             1   \n",
       "3                998.0        0.126042      13.867454             1   \n",
       "4               1204.0        0.131255      11.989662             1   \n",
       "\n",
       "   prodComb_max  prodComb_std  \n",
       "0            62      6.988220  \n",
       "1           100      7.732432  \n",
       "2           145      8.621557  \n",
       "3            91      8.472359  \n",
       "4            70      8.941500  \n",
       "\n",
       "[5 rows x 31 columns]"
      ]
     },
     "execution_count": 37,
     "metadata": {},
     "output_type": "execute_result"
    }
   ],
   "source": [
    "df_allOrdDet.head()"
   ]
  },
  {
   "cell_type": "markdown",
   "metadata": {},
   "source": [
    "#### Combining User Product Interaction Features"
   ]
  },
  {
   "cell_type": "code",
   "execution_count": 38,
   "metadata": {},
   "outputs": [],
   "source": [
    "df_totalBuys=pd.read_pickle('input/totalbuys.p')"
   ]
  },
  {
   "cell_type": "code",
   "execution_count": 39,
   "metadata": {},
   "outputs": [
    {
     "name": "stdout",
     "output_type": "stream",
     "text": [
      "<class 'pandas.core.frame.DataFrame'>\n",
      "Int64Index: 12084910 entries, 0 to 12084909\n",
      "Data columns (total 5 columns):\n",
      "user_id            uint32\n",
      "order_id           uint32\n",
      "product_id         uint16\n",
      "total_buy          uint8\n",
      "total_buy_ratio    float64\n",
      "dtypes: float64(1), uint16(1), uint32(2), uint8(1)\n",
      "memory usage: 311.2 MB\n"
     ]
    }
   ],
   "source": [
    "df_totalBuys=df_totalBuys.apply(pd.to_numeric,downcast='unsigned')\n",
    "df_totalBuys.info(memory_usage='deep')"
   ]
  },
  {
   "cell_type": "code",
   "execution_count": 40,
   "metadata": {},
   "outputs": [],
   "source": [
    "df_allOrdDet = df_allOrdDet.merge(df_totalBuys,on=['user_id','product_id'],how='left')"
   ]
  },
  {
   "cell_type": "code",
   "execution_count": 41,
   "metadata": {},
   "outputs": [],
   "source": [
    "prdOrdPoss=pd.read_pickle('input/prdOrdPoss.p')"
   ]
  },
  {
   "cell_type": "code",
   "execution_count": 42,
   "metadata": {},
   "outputs": [
    {
     "name": "stdout",
     "output_type": "stream",
     "text": [
      "<class 'pandas.core.frame.DataFrame'>\n",
      "Int64Index: 12084910 entries, 0 to 12084909\n",
      "Data columns (total 7 columns):\n",
      "user_id        uint32\n",
      "product_id     uint16\n",
      "count          uint8\n",
      "minPrdOrd      uint8\n",
      "maxOrd         uint8\n",
      "possibility    uint8\n",
      "ordPoss        float64\n",
      "dtypes: float64(1), uint16(1), uint32(1), uint8(4)\n",
      "memory usage: 299.7 MB\n"
     ]
    }
   ],
   "source": [
    "prdOrdPoss=prdOrdPoss.apply(pd.to_numeric,downcast='unsigned')\n",
    "prdOrdPoss.info(memory_usage='deep')"
   ]
  },
  {
   "cell_type": "code",
   "execution_count": 43,
   "metadata": {},
   "outputs": [],
   "source": [
    "df_allOrdDet = df_allOrdDet.merge(prdOrdPoss,on=['user_id','product_id'],how='left')"
   ]
  },
  {
   "cell_type": "code",
   "execution_count": 44,
   "metadata": {
    "scrolled": true
   },
   "outputs": [
    {
     "name": "stdout",
     "output_type": "stream",
     "text": [
      "<class 'pandas.core.frame.DataFrame'>\n",
      "Int64Index: 11470336 entries, 0 to 11470335\n",
      "Data columns (total 39 columns):\n",
      "order_id_x                int64\n",
      "user_id                   int64\n",
      "order_number              int64\n",
      "SucceedingOrdCnt          int32\n",
      "eval_set                  object\n",
      "order_dow                 int64\n",
      "order_hour_of_day         int64\n",
      "product_id                int64\n",
      "reordered                 int64\n",
      "aisle_id                  int64\n",
      "department_id             int64\n",
      "t-1_order_id              int64\n",
      "t-2_order_id              int64\n",
      "t-3_order_id              int64\n",
      "user_order_size-min       uint8\n",
      "user_order_size-max       uint8\n",
      "user_order_size-median    float64\n",
      "user_order_size-mean      float64\n",
      "user_order_size-std       float64\n",
      "item_hour_cnt             float64\n",
      "itemHrDist                float64\n",
      "unique_item_hour_cnt      float64\n",
      "unqItemHrDist             float64\n",
      "item_dow_cnt              float64\n",
      "itemDowDist               float64\n",
      "unique_item_dow_cnt       float64\n",
      "unqItemDowDist            float64\n",
      "prodComb_mean             float64\n",
      "prodComb_min              int64\n",
      "prodComb_max              int64\n",
      "prodComb_std              float64\n",
      "order_id_y                uint32\n",
      "total_buy                 uint8\n",
      "total_buy_ratio           float64\n",
      "count                     uint8\n",
      "minPrdOrd                 uint8\n",
      "maxOrd                    uint8\n",
      "possibility               uint8\n",
      "ordPoss                   float64\n",
      "dtypes: float64(15), int32(1), int64(14), object(1), uint32(1), uint8(7)\n",
      "memory usage: 3.4 GB\n"
     ]
    }
   ],
   "source": [
    "df_allOrdDet.info(memory_usage='deep')"
   ]
  },
  {
   "cell_type": "code",
   "execution_count": 45,
   "metadata": {},
   "outputs": [],
   "source": [
    "df_allOrdDet=df_allOrdDet.drop(['order_id_y'],axis=1)\n",
    "df_allOrdDet.rename(columns={'order_id_x':'order_id'},inplace=True)"
   ]
  },
  {
   "cell_type": "code",
   "execution_count": 46,
   "metadata": {},
   "outputs": [
    {
     "data": {
      "text/html": [
       "<div>\n",
       "<style scoped>\n",
       "    .dataframe tbody tr th:only-of-type {\n",
       "        vertical-align: middle;\n",
       "    }\n",
       "\n",
       "    .dataframe tbody tr th {\n",
       "        vertical-align: top;\n",
       "    }\n",
       "\n",
       "    .dataframe thead th {\n",
       "        text-align: right;\n",
       "    }\n",
       "</style>\n",
       "<table border=\"1\" class=\"dataframe\">\n",
       "  <thead>\n",
       "    <tr style=\"text-align: right;\">\n",
       "      <th></th>\n",
       "      <th>order_id</th>\n",
       "      <th>user_id</th>\n",
       "      <th>order_number</th>\n",
       "      <th>SucceedingOrdCnt</th>\n",
       "      <th>eval_set</th>\n",
       "      <th>order_dow</th>\n",
       "      <th>order_hour_of_day</th>\n",
       "      <th>product_id</th>\n",
       "      <th>reordered</th>\n",
       "      <th>aisle_id</th>\n",
       "      <th>...</th>\n",
       "      <th>prodComb_min</th>\n",
       "      <th>prodComb_max</th>\n",
       "      <th>prodComb_std</th>\n",
       "      <th>total_buy</th>\n",
       "      <th>total_buy_ratio</th>\n",
       "      <th>count</th>\n",
       "      <th>minPrdOrd</th>\n",
       "      <th>maxOrd</th>\n",
       "      <th>possibility</th>\n",
       "      <th>ordPoss</th>\n",
       "    </tr>\n",
       "  </thead>\n",
       "  <tbody>\n",
       "    <tr>\n",
       "      <th>0</th>\n",
       "      <td>2550362</td>\n",
       "      <td>1</td>\n",
       "      <td>10</td>\n",
       "      <td>1</td>\n",
       "      <td>prior</td>\n",
       "      <td>4</td>\n",
       "      <td>8</td>\n",
       "      <td>12427</td>\n",
       "      <td>1</td>\n",
       "      <td>23</td>\n",
       "      <td>...</td>\n",
       "      <td>1</td>\n",
       "      <td>62</td>\n",
       "      <td>6.988220</td>\n",
       "      <td>9</td>\n",
       "      <td>1.000000</td>\n",
       "      <td>9</td>\n",
       "      <td>1</td>\n",
       "      <td>9</td>\n",
       "      <td>9</td>\n",
       "      <td>1.000000</td>\n",
       "    </tr>\n",
       "    <tr>\n",
       "      <th>1</th>\n",
       "      <td>2550362</td>\n",
       "      <td>1</td>\n",
       "      <td>10</td>\n",
       "      <td>1</td>\n",
       "      <td>prior</td>\n",
       "      <td>4</td>\n",
       "      <td>8</td>\n",
       "      <td>13032</td>\n",
       "      <td>1</td>\n",
       "      <td>121</td>\n",
       "      <td>...</td>\n",
       "      <td>1</td>\n",
       "      <td>100</td>\n",
       "      <td>7.732432</td>\n",
       "      <td>2</td>\n",
       "      <td>0.222222</td>\n",
       "      <td>2</td>\n",
       "      <td>2</td>\n",
       "      <td>9</td>\n",
       "      <td>8</td>\n",
       "      <td>0.250000</td>\n",
       "    </tr>\n",
       "    <tr>\n",
       "      <th>2</th>\n",
       "      <td>2550362</td>\n",
       "      <td>1</td>\n",
       "      <td>10</td>\n",
       "      <td>1</td>\n",
       "      <td>prior</td>\n",
       "      <td>4</td>\n",
       "      <td>8</td>\n",
       "      <td>13176</td>\n",
       "      <td>0</td>\n",
       "      <td>24</td>\n",
       "      <td>...</td>\n",
       "      <td>1</td>\n",
       "      <td>145</td>\n",
       "      <td>8.621557</td>\n",
       "      <td>2</td>\n",
       "      <td>2.000000</td>\n",
       "      <td>2</td>\n",
       "      <td>2</td>\n",
       "      <td>9</td>\n",
       "      <td>8</td>\n",
       "      <td>0.250000</td>\n",
       "    </tr>\n",
       "    <tr>\n",
       "      <th>3</th>\n",
       "      <td>2550362</td>\n",
       "      <td>1</td>\n",
       "      <td>10</td>\n",
       "      <td>1</td>\n",
       "      <td>prior</td>\n",
       "      <td>4</td>\n",
       "      <td>8</td>\n",
       "      <td>14084</td>\n",
       "      <td>0</td>\n",
       "      <td>91</td>\n",
       "      <td>...</td>\n",
       "      <td>1</td>\n",
       "      <td>91</td>\n",
       "      <td>8.472359</td>\n",
       "      <td>1</td>\n",
       "      <td>inf</td>\n",
       "      <td>1</td>\n",
       "      <td>1</td>\n",
       "      <td>9</td>\n",
       "      <td>9</td>\n",
       "      <td>0.111111</td>\n",
       "    </tr>\n",
       "    <tr>\n",
       "      <th>4</th>\n",
       "      <td>2550362</td>\n",
       "      <td>1</td>\n",
       "      <td>10</td>\n",
       "      <td>1</td>\n",
       "      <td>prior</td>\n",
       "      <td>4</td>\n",
       "      <td>8</td>\n",
       "      <td>17122</td>\n",
       "      <td>0</td>\n",
       "      <td>24</td>\n",
       "      <td>...</td>\n",
       "      <td>1</td>\n",
       "      <td>70</td>\n",
       "      <td>8.941500</td>\n",
       "      <td>1</td>\n",
       "      <td>0.250000</td>\n",
       "      <td>1</td>\n",
       "      <td>5</td>\n",
       "      <td>9</td>\n",
       "      <td>5</td>\n",
       "      <td>0.200000</td>\n",
       "    </tr>\n",
       "  </tbody>\n",
       "</table>\n",
       "<p>5 rows × 38 columns</p>\n",
       "</div>"
      ],
      "text/plain": [
       "   order_id  user_id  order_number  SucceedingOrdCnt eval_set  order_dow  \\\n",
       "0   2550362        1            10                 1    prior          4   \n",
       "1   2550362        1            10                 1    prior          4   \n",
       "2   2550362        1            10                 1    prior          4   \n",
       "3   2550362        1            10                 1    prior          4   \n",
       "4   2550362        1            10                 1    prior          4   \n",
       "\n",
       "   order_hour_of_day  product_id  reordered  aisle_id    ...     prodComb_min  \\\n",
       "0                  8       12427          1        23    ...                1   \n",
       "1                  8       13032          1       121    ...                1   \n",
       "2                  8       13176          0        24    ...                1   \n",
       "3                  8       14084          0        91    ...                1   \n",
       "4                  8       17122          0        24    ...                1   \n",
       "\n",
       "   prodComb_max  prodComb_std  total_buy  total_buy_ratio  count  minPrdOrd  \\\n",
       "0            62      6.988220          9         1.000000      9          1   \n",
       "1           100      7.732432          2         0.222222      2          2   \n",
       "2           145      8.621557          2         2.000000      2          2   \n",
       "3            91      8.472359          1              inf      1          1   \n",
       "4            70      8.941500          1         0.250000      1          5   \n",
       "\n",
       "   maxOrd  possibility   ordPoss  \n",
       "0       9            9  1.000000  \n",
       "1       9            8  0.250000  \n",
       "2       9            8  0.250000  \n",
       "3       9            9  0.111111  \n",
       "4       9            5  0.200000  \n",
       "\n",
       "[5 rows x 38 columns]"
      ]
     },
     "execution_count": 46,
     "metadata": {},
     "output_type": "execute_result"
    }
   ],
   "source": [
    "df_allOrdDet.head()"
   ]
  },
  {
   "cell_type": "markdown",
   "metadata": {},
   "source": [
    "#### Combining Day and Hour Features"
   ]
  },
  {
   "cell_type": "code",
   "execution_count": 47,
   "metadata": {},
   "outputs": [],
   "source": [
    "df_dowOrdTrd = pd.read_pickle('input/dowOrdTrd.p')"
   ]
  },
  {
   "cell_type": "code",
   "execution_count": 48,
   "metadata": {},
   "outputs": [],
   "source": [
    "#df_dowOrdTrd=df_dowOrdTrd.apply(pd.to_numeric,downcast='unsigned')\n",
    "#df_dowOrdTrd.info(memory_usage='deep')"
   ]
  },
  {
   "cell_type": "code",
   "execution_count": 49,
   "metadata": {},
   "outputs": [],
   "source": [
    "df_allOrdDet = df_allOrdDet.merge(df_dowOrdTrd,on='order_dow',how='left')"
   ]
  },
  {
   "cell_type": "code",
   "execution_count": 50,
   "metadata": {},
   "outputs": [],
   "source": [
    "df_hourOrdTrd=pd.read_pickle('input/hourOrdTrd.p').reset_index()"
   ]
  },
  {
   "cell_type": "code",
   "execution_count": 51,
   "metadata": {},
   "outputs": [],
   "source": [
    "#df_hourOrdTrd=df_hourOrdTrd.apply(pd.to_numeric,downcast='unsigned')\n",
    "#df_hourOrdTrd.info(memory_usage='deep')"
   ]
  },
  {
   "cell_type": "code",
   "execution_count": 52,
   "metadata": {},
   "outputs": [],
   "source": [
    "df_allOrdDet = df_allOrdDet.merge(df_hourOrdTrd,on='order_hour_of_day',how='left')"
   ]
  },
  {
   "cell_type": "markdown",
   "metadata": {},
   "source": [
    "### Export All Engineered Features"
   ]
  },
  {
   "cell_type": "code",
   "execution_count": 53,
   "metadata": {
    "scrolled": true
   },
   "outputs": [
    {
     "data": {
      "text/plain": [
       "order_id                      0\n",
       "user_id                       0\n",
       "order_number                  0\n",
       "SucceedingOrdCnt              0\n",
       "eval_set                      0\n",
       "order_dow                     0\n",
       "order_hour_of_day             0\n",
       "product_id                    0\n",
       "reordered                     0\n",
       "aisle_id                      0\n",
       "department_id                 0\n",
       "t-1_order_id                  0\n",
       "t-2_order_id                  0\n",
       "t-3_order_id                  0\n",
       "user_order_size-min           0\n",
       "user_order_size-max           0\n",
       "user_order_size-median        0\n",
       "user_order_size-mean          0\n",
       "user_order_size-std           0\n",
       "item_hour_cnt             86756\n",
       "itemHrDist                86756\n",
       "unique_item_hour_cnt      86756\n",
       "unqItemHrDist             86756\n",
       "item_dow_cnt              17474\n",
       "itemDowDist               17474\n",
       "unique_item_dow_cnt       17474\n",
       "unqItemDowDist            17474\n",
       "prodComb_mean                 0\n",
       "prodComb_min                  0\n",
       "prodComb_max                  0\n",
       "prodComb_std                245\n",
       "total_buy                     0\n",
       "total_buy_ratio               0\n",
       "count                         0\n",
       "minPrdOrd                     0\n",
       "maxOrd                        0\n",
       "possibility                   0\n",
       "ordPoss                       0\n",
       "dow_order_count               0\n",
       "dow_item_cnt                  0\n",
       "dow_rank_diff                 0\n",
       "hour_order_count              0\n",
       "hour_item_count               0\n",
       "hour_rank_diff                0\n",
       "dtype: int64"
      ]
     },
     "execution_count": 53,
     "metadata": {},
     "output_type": "execute_result"
    }
   ],
   "source": [
    "df_allOrdDet.isnull().sum()"
   ]
  },
  {
   "cell_type": "code",
   "execution_count": 54,
   "metadata": {},
   "outputs": [
    {
     "data": {
      "text/plain": [
       "11470336"
      ]
     },
     "execution_count": 54,
     "metadata": {},
     "output_type": "execute_result"
    }
   ],
   "source": [
    "len(df_allOrdDet.index)"
   ]
  },
  {
   "cell_type": "code",
   "execution_count": 56,
   "metadata": {},
   "outputs": [],
   "source": [
    "df_allOrdDet.dropna(inplace=True)"
   ]
  },
  {
   "cell_type": "code",
   "execution_count": 57,
   "metadata": {},
   "outputs": [],
   "source": [
    "df_allOrdDet.to_pickle('input/all_Eng_Features.p')"
   ]
  },
  {
   "cell_type": "code",
   "execution_count": 58,
   "metadata": {},
   "outputs": [
    {
     "data": {
      "text/plain": [
       "array(['prior'], dtype=object)"
      ]
     },
     "execution_count": 58,
     "metadata": {},
     "output_type": "execute_result"
    }
   ],
   "source": [
    "df_allOrdDet['eval_set'].unique()"
   ]
  },
  {
   "cell_type": "code",
   "execution_count": 59,
   "metadata": {},
   "outputs": [
    {
     "data": {
      "text/plain": [
       "count    11375135.0\n",
       "mean            1.0\n",
       "std             0.0\n",
       "min             1.0\n",
       "25%             1.0\n",
       "50%             1.0\n",
       "75%             1.0\n",
       "max             1.0\n",
       "Name: SucceedingOrdCnt, dtype: float64"
      ]
     },
     "execution_count": 59,
     "metadata": {},
     "output_type": "execute_result"
    }
   ],
   "source": [
    "df_allOrdDet['SucceedingOrdCnt'].describe()"
   ]
  },
  {
   "cell_type": "code",
   "execution_count": 60,
   "metadata": {},
   "outputs": [
    {
     "data": {
      "text/plain": [
       "count    1.137514e+07\n",
       "mean     1.005957e-01\n",
       "std      3.007927e-01\n",
       "min      0.000000e+00\n",
       "25%      0.000000e+00\n",
       "50%      0.000000e+00\n",
       "75%      0.000000e+00\n",
       "max      1.000000e+00\n",
       "Name: reordered, dtype: float64"
      ]
     },
     "execution_count": 60,
     "metadata": {},
     "output_type": "execute_result"
    }
   ],
   "source": [
    "df_allOrdDet['reordered'].describe()"
   ]
  },
  {
   "cell_type": "code",
   "execution_count": null,
   "metadata": {},
   "outputs": [],
   "source": []
  }
 ],
 "metadata": {
  "kernelspec": {
   "display_name": "Python 3",
   "language": "python",
   "name": "python3"
  },
  "language_info": {
   "codemirror_mode": {
    "name": "ipython",
    "version": 3
   },
   "file_extension": ".py",
   "mimetype": "text/x-python",
   "name": "python",
   "nbconvert_exporter": "python",
   "pygments_lexer": "ipython3",
   "version": "3.6.6"
  }
 },
 "nbformat": 4,
 "nbformat_minor": 2
}
